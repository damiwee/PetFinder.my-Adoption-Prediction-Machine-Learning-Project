{
 "cells": [
  {
   "cell_type": "markdown",
   "id": "f57e36fe-2566-43a2-859e-f1fdc7249566",
   "metadata": {},
   "source": [
    "# Download data"
   ]
  },
  {
   "cell_type": "code",
   "execution_count": 1,
   "id": "0e6da7d7-5618-4f8c-aaf4-f88bd958f708",
   "metadata": {},
   "outputs": [],
   "source": [
    "!pip install opendatasets --upgrade --quiet"
   ]
  },
  {
   "cell_type": "code",
   "execution_count": 2,
   "id": "bd538903-eadb-4b50-9dc5-c00dedd7362a",
   "metadata": {},
   "outputs": [],
   "source": [
    "import opendatasets as od"
   ]
  },
  {
   "cell_type": "code",
   "execution_count": 3,
   "id": "0b3829c0-cc52-4eaf-ae9d-9a920607d642",
   "metadata": {},
   "outputs": [
    {
     "name": "stdout",
     "output_type": "stream",
     "text": [
      "Skipping, found downloaded files in \"../data\\petfinder-adoption-prediction\" (use force=True to force download)\n"
     ]
    }
   ],
   "source": [
    "#Dataset URL\n",
    "dataset_url = 'https://www.kaggle.com/c/petfinder-adoption-prediction'\n",
    "\n",
    "#Directory where the dataset will be downloaded\n",
    "data_dir = '../data'\n",
    "\n",
    "# Download the dataset\n",
    "od.download(dataset_url, data_dir=data_dir)"
   ]
  },
  {
   "cell_type": "markdown",
   "id": "5b43adb1-9c57-4b17-99c5-21fc3f1cd38b",
   "metadata": {},
   "source": [
    "# Install necessary libraries"
   ]
  },
  {
   "cell_type": "code",
   "execution_count": 60,
   "id": "059fd017-c816-44da-919f-3a0445611036",
   "metadata": {},
   "outputs": [],
   "source": [
    "!pip install pandas numpy scipy seaborn matplotlib scikit-learn sweetviz tensorflow --upgrade --user --quiet"
   ]
  },
  {
   "cell_type": "markdown",
   "id": "6ac43caf-3fb5-487d-a89d-4f36c0e8a814",
   "metadata": {},
   "source": [
    "# Data Analysis"
   ]
  },
  {
   "cell_type": "code",
   "execution_count": 5,
   "id": "41335881-2df7-4693-83ea-cf293da039ff",
   "metadata": {},
   "outputs": [],
   "source": [
    "import pandas as pd\n",
    "import numpy as np"
   ]
  },
  {
   "cell_type": "markdown",
   "id": "16a4880e-0c3b-42b6-b250-28f799064a10",
   "metadata": {},
   "source": [
    "## Overview of dataset"
   ]
  },
  {
   "cell_type": "code",
   "execution_count": 6,
   "id": "ecc8051a-3934-4441-93d8-72a0fb4cd25f",
   "metadata": {},
   "outputs": [
    {
     "name": "stdout",
     "output_type": "stream",
     "text": [
      "   Type         Name  Age  Breed1  Breed2  Gender  Color1  Color2  Color3  \\\n",
      "0     2       Nibble    3     299       0       1       1       7       0   \n",
      "1     2  No Name Yet    1     265       0       1       1       2       0   \n",
      "2     1       Brisco    1     307       0       1       2       7       0   \n",
      "3     1         Miko    4     307       0       2       1       2       0   \n",
      "4     1       Hunter    1     307       0       1       1       0       0   \n",
      "\n",
      "   MaturitySize  ...  Health  Quantity  Fee  State  \\\n",
      "0             1  ...       1         1  100  41326   \n",
      "1             2  ...       1         1    0  41401   \n",
      "2             2  ...       1         1    0  41326   \n",
      "3             2  ...       1         1  150  41401   \n",
      "4             2  ...       1         1    0  41326   \n",
      "\n",
      "                          RescuerID  VideoAmt  \\\n",
      "0  8480853f516546f6cf33aa88cd76c379         0   \n",
      "1  3082c7125d8fb66f7dd4bff4192c8b14         0   \n",
      "2  fa90fa5b1ee11c86938398b60abc32cb         0   \n",
      "3  9238e4f44c71a75282e62f7136c6b240         0   \n",
      "4  95481e953f8aed9ec3d16fc4509537e8         0   \n",
      "\n",
      "                                         Description      PetID PhotoAmt  \\\n",
      "0  Nibble is a 3+ month old ball of cuteness. He ...  86e1089a3      1.0   \n",
      "1  I just found it alone yesterday near my apartm...  6296e909a      2.0   \n",
      "2  Their pregnant mother was dumped by her irresp...  3422e4906      7.0   \n",
      "3  Good guard dog, very alert, active, obedience ...  5842f1ff5      8.0   \n",
      "4  This handsome yet cute boy is up for adoption....  850a43f90      3.0   \n",
      "\n",
      "   AdoptionSpeed  \n",
      "0              2  \n",
      "1              0  \n",
      "2              3  \n",
      "3              2  \n",
      "4              2  \n",
      "\n",
      "[5 rows x 24 columns]\n",
      "<class 'pandas.core.frame.DataFrame'>\n",
      "RangeIndex: 14993 entries, 0 to 14992\n",
      "Data columns (total 24 columns):\n",
      " #   Column         Non-Null Count  Dtype  \n",
      "---  ------         --------------  -----  \n",
      " 0   Type           14993 non-null  int64  \n",
      " 1   Name           13728 non-null  object \n",
      " 2   Age            14993 non-null  int64  \n",
      " 3   Breed1         14993 non-null  int64  \n",
      " 4   Breed2         14993 non-null  int64  \n",
      " 5   Gender         14993 non-null  int64  \n",
      " 6   Color1         14993 non-null  int64  \n",
      " 7   Color2         14993 non-null  int64  \n",
      " 8   Color3         14993 non-null  int64  \n",
      " 9   MaturitySize   14993 non-null  int64  \n",
      " 10  FurLength      14993 non-null  int64  \n",
      " 11  Vaccinated     14993 non-null  int64  \n",
      " 12  Dewormed       14993 non-null  int64  \n",
      " 13  Sterilized     14993 non-null  int64  \n",
      " 14  Health         14993 non-null  int64  \n",
      " 15  Quantity       14993 non-null  int64  \n",
      " 16  Fee            14993 non-null  int64  \n",
      " 17  State          14993 non-null  int64  \n",
      " 18  RescuerID      14993 non-null  object \n",
      " 19  VideoAmt       14993 non-null  int64  \n",
      " 20  Description    14980 non-null  object \n",
      " 21  PetID          14993 non-null  object \n",
      " 22  PhotoAmt       14993 non-null  float64\n",
      " 23  AdoptionSpeed  14993 non-null  int64  \n",
      "dtypes: float64(1), int64(19), object(4)\n",
      "memory usage: 2.7+ MB\n",
      "None\n",
      "               Type           Age        Breed1        Breed2        Gender  \\\n",
      "count  14993.000000  14993.000000  14993.000000  14993.000000  14993.000000   \n",
      "mean       1.457614     10.452078    265.272594     74.009738      1.776162   \n",
      "std        0.498217     18.155790     60.056818    123.011575      0.681592   \n",
      "min        1.000000      0.000000      0.000000      0.000000      1.000000   \n",
      "25%        1.000000      2.000000    265.000000      0.000000      1.000000   \n",
      "50%        1.000000      3.000000    266.000000      0.000000      2.000000   \n",
      "75%        2.000000     12.000000    307.000000    179.000000      2.000000   \n",
      "max        2.000000    255.000000    307.000000    307.000000      3.000000   \n",
      "\n",
      "             Color1        Color2        Color3  MaturitySize     FurLength  \\\n",
      "count  14993.000000  14993.000000  14993.000000  14993.000000  14993.000000   \n",
      "mean       2.234176      3.222837      1.882012      1.862002      1.467485   \n",
      "std        1.745225      2.742562      2.984086      0.547959      0.599070   \n",
      "min        1.000000      0.000000      0.000000      1.000000      1.000000   \n",
      "25%        1.000000      0.000000      0.000000      2.000000      1.000000   \n",
      "50%        2.000000      2.000000      0.000000      2.000000      1.000000   \n",
      "75%        3.000000      6.000000      5.000000      2.000000      2.000000   \n",
      "max        7.000000      7.000000      7.000000      4.000000      3.000000   \n",
      "\n",
      "         Vaccinated      Dewormed    Sterilized        Health      Quantity  \\\n",
      "count  14993.000000  14993.000000  14993.000000  14993.000000  14993.000000   \n",
      "mean       1.731208      1.558727      1.914227      1.036617      1.576069   \n",
      "std        0.667649      0.695817      0.566172      0.199535      1.472477   \n",
      "min        1.000000      1.000000      1.000000      1.000000      1.000000   \n",
      "25%        1.000000      1.000000      2.000000      1.000000      1.000000   \n",
      "50%        2.000000      1.000000      2.000000      1.000000      1.000000   \n",
      "75%        2.000000      2.000000      2.000000      1.000000      1.000000   \n",
      "max        3.000000      3.000000      3.000000      3.000000     20.000000   \n",
      "\n",
      "                Fee         State      VideoAmt      PhotoAmt  AdoptionSpeed  \n",
      "count  14993.000000  14993.000000  14993.000000  14993.000000   14993.000000  \n",
      "mean      21.259988  41346.028347      0.056760      3.889215       2.516441  \n",
      "std       78.414548     32.444153      0.346185      3.487810       1.177265  \n",
      "min        0.000000  41324.000000      0.000000      0.000000       0.000000  \n",
      "25%        0.000000  41326.000000      0.000000      2.000000       2.000000  \n",
      "50%        0.000000  41326.000000      0.000000      3.000000       2.000000  \n",
      "75%        0.000000  41401.000000      0.000000      5.000000       4.000000  \n",
      "max     3000.000000  41415.000000      8.000000     30.000000       4.000000  \n"
     ]
    }
   ],
   "source": [
    "# Load the dataset\n",
    "data = pd.read_csv('../data/petfinder-adoption-prediction/train/train.csv')\n",
    "\n",
    "# Display the first few rows of the dataset\n",
    "print(data.head())\n",
    "\n",
    "# Display basic information about the dataset\n",
    "print(data.info())\n",
    "\n",
    "# Display summary statistics\n",
    "print(data.describe())\n"
   ]
  },
  {
   "cell_type": "markdown",
   "id": "b1c32dc0-bc63-4a9f-8e8a-210d25fbbc46",
   "metadata": {},
   "source": [
    "## Mapping feature code IDs"
   ]
  },
  {
   "cell_type": "code",
   "execution_count": 7,
   "id": "f8fe255a-25d6-451d-976a-cc62f1884de2",
   "metadata": {},
   "outputs": [
    {
     "name": "stdout",
     "output_type": "stream",
     "text": [
      "      Type                    Name  Age                Breed1  \\\n",
      "5120   Dog       Ah Weng And Rocky   20           Mixed Breed   \n",
      "3528   Cat                  Bubble    3   Domestic Short Hair   \n",
      "12294  Cat          Prince Caspian    3                 Tabby   \n",
      "8660   Dog                Bubu Boy    1           Mixed Breed   \n",
      "1512   Dog                 No Name    2           Mixed Breed   \n",
      "14153  Dog            Ruby & Molly    1           Mixed Breed   \n",
      "433    Cat  4 Cute Poor Kittens!!!    0   Domestic Short Hair   \n",
      "6536   Dog                   Terry   12               Terrier   \n",
      "4273   Cat                    Luna    5   Domestic Short Hair   \n",
      "7541   Dog                    Rozy    5           Mixed Breed   \n",
      "3740   Dog             Little Spot   24         Silky Terrier   \n",
      "7693   Dog                  Snoopy    7           Mixed Breed   \n",
      "5517   Cat                    Tuna    4                 Tabby   \n",
      "9707   Cat   Hui Pow And Huang Pow   28            Maine Coon   \n",
      "2563   Dog                 Massimo    3    Labrador Retriever   \n",
      "5635   Dog                    Mojo   24                Poodle   \n",
      "6891   Cat                   Tomok    4                 Tabby   \n",
      "6164   Cat                  George    2  Domestic Medium Hair   \n",
      "11986  Dog                     NaN    1           Mixed Breed   \n",
      "4968   Dog                  Blacky    2    Labrador Retriever   \n",
      "\n",
      "                    Breed2  Gender  Color1  Color2 Color3 MaturitySize  ...  \\\n",
      "5120                   NaN    Male   Black   Brown  White       Medium  ...   \n",
      "3528                   NaN    Male   Black   White    NaN        Small  ...   \n",
      "12294              Siamese    Male   Brown    Gray  White        Small  ...   \n",
      "8660                   NaN    Male   Brown   White    NaN       Medium  ...   \n",
      "1512                   NaN    Male   Cream     NaN    NaN       Medium  ...   \n",
      "14153                  NaN   Mixed   White     NaN    NaN        Large  ...   \n",
      "433                    NaN   Mixed   Black   Cream  White       Medium  ...   \n",
      "6536           Mixed Breed    Male   Brown   White    NaN       Medium  ...   \n",
      "4273                   NaN  Female   Black  Yellow  White       Medium  ...   \n",
      "7541                   NaN  Female   Cream     NaN    NaN       Medium  ...   \n",
      "3740                   NaN  Female   Black    Gray  White        Small  ...   \n",
      "7693                   NaN    Male   Brown   White    NaN       Medium  ...   \n",
      "5517   Domestic Short Hair    Male   Brown    Gray  White       Medium  ...   \n",
      "9707                   NaN   Mixed  Yellow    Gray  White  Extra Large  ...   \n",
      "2563           Mixed Breed    Male  Yellow     NaN    NaN        Large  ...   \n",
      "5635              Shih Tzu  Female   Black   Brown    NaN        Small  ...   \n",
      "6891                Tuxedo  Female    Gray   White    NaN        Small  ...   \n",
      "6164                   NaN    Male   Black   Brown  Cream       Medium  ...   \n",
      "11986                  NaN  Female   Black   Brown  Cream       Medium  ...   \n",
      "4968                   NaN    Male   Black   Brown  White       Medium  ...   \n",
      "\n",
      "             Health Quantity  Fee         State  \\\n",
      "5120        Healthy        2    0      Selangor   \n",
      "3528        Healthy        1    0         Sabah   \n",
      "12294       Healthy        1    0      Selangor   \n",
      "8660        Healthy        1    0  Kuala Lumpur   \n",
      "1512        Healthy        1    0      Selangor   \n",
      "14153       Healthy        2    0      Selangor   \n",
      "433         Healthy        4    0      Selangor   \n",
      "6536        Healthy        1    0      Selangor   \n",
      "4273        Healthy        1  100      Selangor   \n",
      "7541        Healthy        1    0      Selangor   \n",
      "3740        Healthy        1    0      Selangor   \n",
      "7693        Healthy        1    0      Selangor   \n",
      "5517        Healthy        1    0  Kuala Lumpur   \n",
      "9707        Healthy        2  600       Sarawak   \n",
      "2563        Healthy        1  350  Kuala Lumpur   \n",
      "5635        Healthy        1  250      Selangor   \n",
      "6891        Healthy        1    0      Selangor   \n",
      "6164        Healthy        1    0  Pulau Pinang   \n",
      "11986       Healthy        1    0  Kuala Lumpur   \n",
      "4968   Minor Injury        1  150  Kuala Lumpur   \n",
      "\n",
      "                              RescuerID  VideoAmt  \\\n",
      "5120   4873351d52dc7824ac82b691a1f7deb3         0   \n",
      "3528   652e1afa3140b96590bd69d4504355dc         0   \n",
      "12294  32b2646aede579a2c5a2f8e1f0f6f395         0   \n",
      "8660   51e1be357201ac5c9ee758096546f846         0   \n",
      "1512   9b406f88b40572f4d3d51304d13f5b47         0   \n",
      "14153  337914b09c2fa5460e195197e994ef98         0   \n",
      "433    c5c84cffab2a96f9e28beb4085adb841         0   \n",
      "6536   aa66486163b6cbc25ea62a34b11c9b91         0   \n",
      "4273   1470df093c280f9c9c90ccc2f8d44f27         0   \n",
      "7541   8b6c5cd067ada5f54ca5ffc7f7b5d896         0   \n",
      "3740   96b04a4acec4ff6b9f8d4af5c8b95e30         0   \n",
      "7693   337914b09c2fa5460e195197e994ef98         0   \n",
      "5517   13b3c0d8590208d6e60e7118bc3b98d1         0   \n",
      "9707   e166ba56435e4b61917bf3472027d266         0   \n",
      "2563   8ffce5c58bc69ccac0ceee68ddce6ffd         0   \n",
      "5635   d4a8b5e64cd89e2f055b505383a8ee7a         0   \n",
      "6891   f5decfc7eda11362ee9daaa6935b98c0         0   \n",
      "6164   65c3f6c11634f5ab82bd4a0d4a1cc456         0   \n",
      "11986  51e1be357201ac5c9ee758096546f846         0   \n",
      "4968   b53861ec2c7cf77f8a8008dd9cb98ebf         0   \n",
      "\n",
      "                                             Description      PetID PhotoAmt  \\\n",
      "5120   Hi,dear all loving humans our names are Ah Wen...  ef8ddd70b      1.0   \n",
      "3528                                 Kitten for adoption  df09bd082      1.0   \n",
      "12294  Caspian is the angel little kitten that came i...  6b94af372      5.0   \n",
      "8660   Clumsy , cute ŷand friendly little boy! Younge...  9e399c659     12.0   \n",
      "1512                   The dog was rescued from drainage  96ba0193d      1.0   \n",
      "14153  2 Gorgeous puppies for adoption - 2 female wit...  ffe5a0271      4.0   \n",
      "433    4 kittens found in the area of Sri Manja / Sri...  9c31047a7      3.0   \n",
      "6536   Terry is a good-looking and well-built doggie....  6db8c5110      1.0   \n",
      "4273   Luna is energetic and loves to play. She loves...  b34dce3d6      4.0   \n",
      "7541   Rozy is sociable and playful with her own kind...  106128c56      4.0   \n",
      "3740   This small Silky Terrier was found in USJ4, th...  487531377      3.0   \n",
      "7693   Introducing Snoopy!!! He's a mixed breed Male ...  0ac279a25      1.0   \n",
      "5517   Found wandering around my friend's apartment c...  036af6df3     13.0   \n",
      "9707   My beautiful boy & girl are really playful and...  8a1e12a30     11.0   \n",
      "2563   massimo has a slight problem with his eyes but...  eb3b2ad1f      4.0   \n",
      "5635   \"Hiya! I'm a really good natured little miss a...  afe326f34      2.0   \n",
      "6891   My auntie found her today when she is about to...  c0c1504db      5.0   \n",
      "6164   George is a beautiful and playful kitty. We fo...  4e774a9c7      4.0   \n",
      "11986  please give this little girl a home. she defin...  bed78eb25      6.0   \n",
      "4968   Blacky is born on 2 march in my friends house....  5bfbb098d      4.0   \n",
      "\n",
      "       AdoptionSpeed  \n",
      "5120               3  \n",
      "3528               3  \n",
      "12294              2  \n",
      "8660               1  \n",
      "1512               2  \n",
      "14153              3  \n",
      "433                1  \n",
      "6536               4  \n",
      "4273               4  \n",
      "7541               3  \n",
      "3740               3  \n",
      "7693               3  \n",
      "5517               3  \n",
      "9707               4  \n",
      "2563               3  \n",
      "5635               3  \n",
      "6891               1  \n",
      "6164               3  \n",
      "11986              2  \n",
      "4968               1  \n",
      "\n",
      "[20 rows x 24 columns]\n"
     ]
    }
   ],
   "source": [
    "def mapFeatureIds(data):\n",
    "    data['Type'] = data['Type'].replace({1: 'Dog', 2: 'Cat'})\n",
    "    data['MaturitySize'] = data['MaturitySize'].replace({1 : 'Small', 2 : 'Medium', 3 : 'Large', 4 : 'Extra Large'})\n",
    "    data['FurLength'] = data['FurLength'].replace({1 : 'Short', 2 : 'Medium', 3 : 'Long'})\n",
    "    data['Vaccinated'] = data['Vaccinated'].replace({1 : 'Yes', 2 : 'No', 3 : 'Not Sure'})\n",
    "    data['Dewormed'] = data['Dewormed'].replace({1 : 'Yes', 2 : 'No', 3 : 'Not Sure'})\n",
    "    data['Sterilized'] = data['Sterilized'].replace({1 : 'Yes', 2 : 'No', 3 : 'Not Sure'})\n",
    "    data['Health'] = data['Health'].replace({1 : 'Healthy', 2 : 'Minor Injury', 3 : 'Serious Injury'})\n",
    "    data['Gender'] = data['Gender'].replace({1 : 'Male', 2 : 'Female', 3 : 'Mixed'})\n",
    "    data['AdoptionSpeed'] = data['AdoptionSpeed'].replace({0 : '0', 1 : '1', 2 : '2', 3 : '3', 4 : '4'})\n",
    "    \n",
    "    # Load the breed_labels.csv into a DataFrame\n",
    "    breed_labels_df = pd.read_csv('../data/petfinder-adoption-prediction/breed_labels.csv')\n",
    "    \n",
    "    # Map breed codes to breed labels using a dictionary comprehension\n",
    "    breed_map = {row['BreedID']: row['BreedName'] for index, row in breed_labels_df.iterrows()}\n",
    "    \n",
    "    # Replace values in the 'Breed' columns with breed labels\n",
    "    data['Breed1'] = data['Breed1'].map(breed_map)\n",
    "    data['Breed2'] = data['Breed2'].map(breed_map)\n",
    "    \n",
    "    \n",
    "    # Load the color_labels.csv into a DataFrame\n",
    "    color_labels_df = pd.read_csv('../data/petfinder-adoption-prediction/color_labels.csv')\n",
    "    \n",
    "    # Map breed codes to breed labels using a dictionary comprehension\n",
    "    color_map = {row['ColorID']: row['ColorName'] for index, row in color_labels_df.iterrows()}\n",
    "    \n",
    "    # Replace values in the 'Color' columns with Color labels\n",
    "    data['Color1'] = data['Color1'].map(color_map)\n",
    "    data['Color2'] = data['Color2'].map(color_map)\n",
    "    data['Color3'] = data['Color3'].map(color_map)\n",
    "    \n",
    "    \n",
    "    # Load the state_labels.csv into a DataFrame\n",
    "    state_labels_df = pd.read_csv('../data/petfinder-adoption-prediction/state_labels.csv')\n",
    "    \n",
    "    # Map state codes to state labels using a dictionary comprehension\n",
    "    state_map = {row['StateID']: row['StateName'] for index, row in state_labels_df.iterrows()}\n",
    "    \n",
    "    # Replace values in the 'Color' columns with State labels\n",
    "    data['State'] = data['State'].map(state_map)\n",
    "\n",
    "mapFeatureIds(data)\n",
    "\n",
    "# Verify the changes\n",
    "print(data.sample(20))"
   ]
  },
  {
   "cell_type": "code",
   "execution_count": 8,
   "id": "c9f461f7-a6f5-4650-8795-efb9a3cca85a",
   "metadata": {},
   "outputs": [
    {
     "data": {
      "text/html": [
       "<div>\n",
       "<style scoped>\n",
       "    .dataframe tbody tr th:only-of-type {\n",
       "        vertical-align: middle;\n",
       "    }\n",
       "\n",
       "    .dataframe tbody tr th {\n",
       "        vertical-align: top;\n",
       "    }\n",
       "\n",
       "    .dataframe thead th {\n",
       "        text-align: right;\n",
       "    }\n",
       "</style>\n",
       "<table border=\"1\" class=\"dataframe\">\n",
       "  <thead>\n",
       "    <tr style=\"text-align: right;\">\n",
       "      <th></th>\n",
       "      <th>Age</th>\n",
       "      <th>Quantity</th>\n",
       "      <th>Fee</th>\n",
       "      <th>VideoAmt</th>\n",
       "      <th>PhotoAmt</th>\n",
       "    </tr>\n",
       "  </thead>\n",
       "  <tbody>\n",
       "    <tr>\n",
       "      <th>count</th>\n",
       "      <td>14993.000000</td>\n",
       "      <td>14993.000000</td>\n",
       "      <td>14993.000000</td>\n",
       "      <td>14993.000000</td>\n",
       "      <td>14993.000000</td>\n",
       "    </tr>\n",
       "    <tr>\n",
       "      <th>mean</th>\n",
       "      <td>10.452078</td>\n",
       "      <td>1.576069</td>\n",
       "      <td>21.259988</td>\n",
       "      <td>0.056760</td>\n",
       "      <td>3.889215</td>\n",
       "    </tr>\n",
       "    <tr>\n",
       "      <th>std</th>\n",
       "      <td>18.155790</td>\n",
       "      <td>1.472477</td>\n",
       "      <td>78.414548</td>\n",
       "      <td>0.346185</td>\n",
       "      <td>3.487810</td>\n",
       "    </tr>\n",
       "    <tr>\n",
       "      <th>min</th>\n",
       "      <td>0.000000</td>\n",
       "      <td>1.000000</td>\n",
       "      <td>0.000000</td>\n",
       "      <td>0.000000</td>\n",
       "      <td>0.000000</td>\n",
       "    </tr>\n",
       "    <tr>\n",
       "      <th>25%</th>\n",
       "      <td>2.000000</td>\n",
       "      <td>1.000000</td>\n",
       "      <td>0.000000</td>\n",
       "      <td>0.000000</td>\n",
       "      <td>2.000000</td>\n",
       "    </tr>\n",
       "    <tr>\n",
       "      <th>50%</th>\n",
       "      <td>3.000000</td>\n",
       "      <td>1.000000</td>\n",
       "      <td>0.000000</td>\n",
       "      <td>0.000000</td>\n",
       "      <td>3.000000</td>\n",
       "    </tr>\n",
       "    <tr>\n",
       "      <th>75%</th>\n",
       "      <td>12.000000</td>\n",
       "      <td>1.000000</td>\n",
       "      <td>0.000000</td>\n",
       "      <td>0.000000</td>\n",
       "      <td>5.000000</td>\n",
       "    </tr>\n",
       "    <tr>\n",
       "      <th>max</th>\n",
       "      <td>255.000000</td>\n",
       "      <td>20.000000</td>\n",
       "      <td>3000.000000</td>\n",
       "      <td>8.000000</td>\n",
       "      <td>30.000000</td>\n",
       "    </tr>\n",
       "  </tbody>\n",
       "</table>\n",
       "</div>"
      ],
      "text/plain": [
       "                Age      Quantity           Fee      VideoAmt      PhotoAmt\n",
       "count  14993.000000  14993.000000  14993.000000  14993.000000  14993.000000\n",
       "mean      10.452078      1.576069     21.259988      0.056760      3.889215\n",
       "std       18.155790      1.472477     78.414548      0.346185      3.487810\n",
       "min        0.000000      1.000000      0.000000      0.000000      0.000000\n",
       "25%        2.000000      1.000000      0.000000      0.000000      2.000000\n",
       "50%        3.000000      1.000000      0.000000      0.000000      3.000000\n",
       "75%       12.000000      1.000000      0.000000      0.000000      5.000000\n",
       "max      255.000000     20.000000   3000.000000      8.000000     30.000000"
      ]
     },
     "execution_count": 8,
     "metadata": {},
     "output_type": "execute_result"
    }
   ],
   "source": [
    "data.describe()"
   ]
  },
  {
   "cell_type": "code",
   "execution_count": 9,
   "id": "51f2df8f-9f81-4176-85a9-dcbd6570ca11",
   "metadata": {},
   "outputs": [
    {
     "name": "stdout",
     "output_type": "stream",
     "text": [
      "<class 'pandas.core.frame.DataFrame'>\n",
      "RangeIndex: 14993 entries, 0 to 14992\n",
      "Data columns (total 24 columns):\n",
      " #   Column         Non-Null Count  Dtype  \n",
      "---  ------         --------------  -----  \n",
      " 0   Type           14993 non-null  object \n",
      " 1   Name           13728 non-null  object \n",
      " 2   Age            14993 non-null  int64  \n",
      " 3   Breed1         14988 non-null  object \n",
      " 4   Breed2         4231 non-null   object \n",
      " 5   Gender         14993 non-null  object \n",
      " 6   Color1         14993 non-null  object \n",
      " 7   Color2         10522 non-null  object \n",
      " 8   Color3         4389 non-null   object \n",
      " 9   MaturitySize   14993 non-null  object \n",
      " 10  FurLength      14993 non-null  object \n",
      " 11  Vaccinated     14993 non-null  object \n",
      " 12  Dewormed       14993 non-null  object \n",
      " 13  Sterilized     14993 non-null  object \n",
      " 14  Health         14993 non-null  object \n",
      " 15  Quantity       14993 non-null  int64  \n",
      " 16  Fee            14993 non-null  int64  \n",
      " 17  State          14993 non-null  object \n",
      " 18  RescuerID      14993 non-null  object \n",
      " 19  VideoAmt       14993 non-null  int64  \n",
      " 20  Description    14980 non-null  object \n",
      " 21  PetID          14993 non-null  object \n",
      " 22  PhotoAmt       14993 non-null  float64\n",
      " 23  AdoptionSpeed  14993 non-null  object \n",
      "dtypes: float64(1), int64(4), object(19)\n",
      "memory usage: 2.7+ MB\n"
     ]
    }
   ],
   "source": [
    "data.info()"
   ]
  },
  {
   "cell_type": "markdown",
   "id": "62afb10e-8f59-432f-a132-a3477ae16b78",
   "metadata": {},
   "source": [
    "## Automated Data Analysis for quick Visualisations"
   ]
  },
  {
   "cell_type": "code",
   "execution_count": 10,
   "id": "55d126ff-b0cb-4556-b07c-ced2186b11a9",
   "metadata": {},
   "outputs": [],
   "source": [
    "import sweetviz as sv"
   ]
  },
  {
   "cell_type": "code",
   "execution_count": 11,
   "id": "7655e9f3-1d0a-4c64-a09a-3561e47a7b35",
   "metadata": {},
   "outputs": [
    {
     "data": {
      "application/vnd.jupyter.widget-view+json": {
       "model_id": "4381fef7348f4d05b0b7d9505571f22b",
       "version_major": 2,
       "version_minor": 0
      },
      "text/plain": [
       "                                             |                                                                …"
      ]
     },
     "metadata": {},
     "output_type": "display_data"
    },
    {
     "name": "stdout",
     "output_type": "stream",
     "text": [
      "Report ./analysis_report.html was generated! NOTEBOOK/COLAB USERS: the web browser MAY not pop up, regardless, the report IS saved in your notebook/colab files.\n"
     ]
    }
   ],
   "source": [
    "report = sv.analyze(data)\n",
    "\n",
    "# Generate Sweetviz HTML report\n",
    "report.show_html('./analysis_report.html')"
   ]
  },
  {
   "cell_type": "markdown",
   "id": "df7406b4-f783-47ce-a20d-581375bf4c61",
   "metadata": {},
   "source": [
    "# Data cleaning"
   ]
  },
  {
   "cell_type": "markdown",
   "id": "04ccc4bb-92ef-46a7-8553-b10b16721403",
   "metadata": {},
   "source": [
    "## Rename feature columns to lower case"
   ]
  },
  {
   "cell_type": "code",
   "execution_count": 12,
   "id": "ff7d3be0-29fa-419d-b777-d901eedd6fef",
   "metadata": {},
   "outputs": [
    {
     "name": "stdout",
     "output_type": "stream",
     "text": [
      "['Type', 'Name', 'Age', 'Breed1', 'Breed2', 'Gender', 'Color1', 'Color2', 'Color3', 'MaturitySize', 'FurLength', 'Vaccinated', 'Dewormed', 'Sterilized', 'Health', 'Quantity', 'Fee', 'State', 'RescuerID', 'VideoAmt', 'Description', 'PetID', 'PhotoAmt', 'AdoptionSpeed']\n"
     ]
    }
   ],
   "source": [
    "print(data.columns.tolist())"
   ]
  },
  {
   "cell_type": "code",
   "execution_count": 13,
   "id": "2501833a-d929-41ca-9f4e-bace7a8252ba",
   "metadata": {},
   "outputs": [],
   "source": [
    "def dataCleaningRenameLowerCase(data):\n",
    "    data.rename(columns = {'Type' : 'type', 'Name' : 'name', 'Age' : 'age', \n",
    "                           'Breed1' :'breed1', 'Breed2' : 'breed2', 'Gender' : 'gender', \n",
    "                           'Color1' : 'color1', 'Color2' :'color2', 'Color3' : 'color3', \n",
    "                           'MaturitySize' : 'maturitysize', 'FurLength' : 'furlength', 'Vaccinated' : 'vaccinated', \n",
    "                           'Dewormed' : 'dewormed', 'Sterilized' : 'sterilized', 'Health' : 'health', \n",
    "                           'Quantity' : 'quantity', 'Fee' : 'fee', 'State' : 'state', \n",
    "                           'RescuerID' : 'rescuerid', 'VideoAmt' : 'videoamt', \n",
    "                           'Description' : 'description', 'PetID' : 'petid', 'PhotoAmt': 'photoamt', \n",
    "                           'AdoptionSpeed': 'adoptionspeed' }, inplace = True)\n",
    "\n",
    "dataCleaningRenameLowerCase(data)"
   ]
  },
  {
   "cell_type": "code",
   "execution_count": 14,
   "id": "3658b9ae-4d6a-476e-8cd2-f124b2a539db",
   "metadata": {},
   "outputs": [
    {
     "name": "stdout",
     "output_type": "stream",
     "text": [
      "['type', 'name', 'age', 'breed1', 'breed2', 'gender', 'color1', 'color2', 'color3', 'maturitysize', 'furlength', 'vaccinated', 'dewormed', 'sterilized', 'health', 'quantity', 'fee', 'state', 'rescuerid', 'videoamt', 'description', 'petid', 'photoamt', 'adoptionspeed']\n"
     ]
    }
   ],
   "source": [
    "print(data.columns.tolist())"
   ]
  },
  {
   "cell_type": "markdown",
   "id": "700601b7-3b8d-46bd-b150-584de39ac4d9",
   "metadata": {},
   "source": [
    "## Handle missing values"
   ]
  },
  {
   "cell_type": "code",
   "execution_count": 15,
   "id": "006d31de-2de5-43fb-b11e-227d82c39e7e",
   "metadata": {},
   "outputs": [
    {
     "data": {
      "text/plain": [
       "type                 0\n",
       "name              1265\n",
       "age                  0\n",
       "breed1               5\n",
       "breed2           10762\n",
       "gender               0\n",
       "color1               0\n",
       "color2            4471\n",
       "color3           10604\n",
       "maturitysize         0\n",
       "furlength            0\n",
       "vaccinated           0\n",
       "dewormed             0\n",
       "sterilized           0\n",
       "health               0\n",
       "quantity             0\n",
       "fee                  0\n",
       "state                0\n",
       "rescuerid            0\n",
       "videoamt             0\n",
       "description         13\n",
       "petid                0\n",
       "photoamt             0\n",
       "adoptionspeed        0\n",
       "dtype: int64"
      ]
     },
     "execution_count": 15,
     "metadata": {},
     "output_type": "execute_result"
    }
   ],
   "source": [
    "data.isnull().sum()"
   ]
  },
  {
   "cell_type": "markdown",
   "id": "7c36fdd8-7401-4cf8-a776-68a7b736a3fa",
   "metadata": {},
   "source": [
    "### Define drop feature columns"
   ]
  },
  {
   "cell_type": "code",
   "execution_count": 16,
   "id": "72aa151c-1eb2-4c91-bd3b-8474ce4fd9b1",
   "metadata": {},
   "outputs": [],
   "source": [
    "def dataCleaningDropFeatures(data, features):\n",
    "    data.drop(columns=features, inplace=True)"
   ]
  },
  {
   "cell_type": "markdown",
   "id": "5d2dc68e-a152-4eff-9604-34ce884ec593",
   "metadata": {},
   "source": [
    "### Define drop rows with missing values"
   ]
  },
  {
   "cell_type": "code",
   "execution_count": 17,
   "id": "d4219922-90d8-4434-babe-e4db142511e8",
   "metadata": {},
   "outputs": [],
   "source": [
    "def dataCleaningDropRowsWithMissingFeatureValues(data, features):\n",
    "    for feature in features:\n",
    "        # Drop rows with missing values in feature\n",
    "        data.dropna(subset=feature, inplace=True)"
   ]
  },
  {
   "cell_type": "markdown",
   "id": "0c930b93-85cd-417d-9591-e0b8a672995e",
   "metadata": {},
   "source": [
    "### Missing text feature values"
   ]
  },
  {
   "cell_type": "markdown",
   "id": "05c11358-ef07-4b00-82ca-b367d176cc0c",
   "metadata": {},
   "source": [
    "- Name feature column has approximately 8% missing values. We shall leave it as it is for the moment, perhaps we can engineer a new feature 'hasname' later on. We will drop name feature column later on before selecting features."
   ]
  },
  {
   "cell_type": "markdown",
   "id": "8a003806-0c28-47c5-91c9-5c52749ba4ca",
   "metadata": {},
   "source": [
    "- For description, there are only 13 rows with missing values, we can also safely drop these rows. Creating a new feature 'hasdescription' has little significance as there are too few samples. We will drop these rows later."
   ]
  },
  {
   "cell_type": "markdown",
   "id": "fd460a48-586d-4409-9be9-e94ed3bb5c2f",
   "metadata": {},
   "source": [
    "### Categorical features with too many missing values"
   ]
  },
  {
   "cell_type": "markdown",
   "id": "56cce56c-7c71-4967-9837-fbd46f9acefd",
   "metadata": {},
   "source": [
    "- breed2, color2 and color3 feature columns have too many missing values. Data imputation may cause unwanted biasness. However, we can engineer new features 'numcolor' and 'ispurebreed' later on. We will drop these features later on during feature selection."
   ]
  },
  {
   "cell_type": "markdown",
   "id": "eb40913c-ba95-4d50-9634-8827729c680b",
   "metadata": {},
   "source": [
    "### Meaningless features"
   ]
  },
  {
   "cell_type": "markdown",
   "id": "a4db9a91-2106-42f2-8a3c-b9e38983eb93",
   "metadata": {},
   "source": [
    "- petid is also unlikey to have any meaningful relationship with adoptionspeed. We shall drop this feature later on during feature selection."
   ]
  },
  {
   "cell_type": "markdown",
   "id": "a2acd5c2-20d6-4f8e-80a1-79343db81de5",
   "metadata": {},
   "source": [
    "### Drop rows for features with few missing values"
   ]
  },
  {
   "cell_type": "markdown",
   "id": "a0d7b59b-f569-4145-832a-84207bd4775d",
   "metadata": {},
   "source": [
    "- For breed1, for simplicity, we shall drop rows with missing breed1 values, else we would need to train a separate model to predict it."
   ]
  },
  {
   "cell_type": "markdown",
   "id": "dab2ab2b-d432-48cc-989f-0ecc966ed4de",
   "metadata": {},
   "source": [
    "- As mentioned earlier, we will drop rows with missing descriptions too."
   ]
  },
  {
   "cell_type": "code",
   "execution_count": 18,
   "id": "1124b2c0-7678-4692-b602-86734c60e36d",
   "metadata": {},
   "outputs": [],
   "source": [
    "dataCleaningDropRowsWithMissingFeatureValues(data, ['breed1', 'description'])"
   ]
  },
  {
   "cell_type": "code",
   "execution_count": 19,
   "id": "5119df49-130b-42d1-ace7-d87c673bb11a",
   "metadata": {},
   "outputs": [
    {
     "data": {
      "text/plain": [
       "type                 0\n",
       "name              1263\n",
       "age                  0\n",
       "breed1               0\n",
       "breed2           10753\n",
       "gender               0\n",
       "color1               0\n",
       "color2            4467\n",
       "color3           10589\n",
       "maturitysize         0\n",
       "furlength            0\n",
       "vaccinated           0\n",
       "dewormed             0\n",
       "sterilized           0\n",
       "health               0\n",
       "quantity             0\n",
       "fee                  0\n",
       "state                0\n",
       "rescuerid            0\n",
       "videoamt             0\n",
       "description          0\n",
       "petid                0\n",
       "photoamt             0\n",
       "adoptionspeed        0\n",
       "dtype: int64"
      ]
     },
     "execution_count": 19,
     "metadata": {},
     "output_type": "execute_result"
    }
   ],
   "source": [
    "data.isnull().sum()"
   ]
  },
  {
   "cell_type": "markdown",
   "id": "684ce0fc-08d9-4209-af96-ba0d79c4bd97",
   "metadata": {},
   "source": [
    "# Feature Engineering"
   ]
  },
  {
   "cell_type": "code",
   "execution_count": 20,
   "id": "cf6b1cd5-1d10-4827-9cf3-268f3f38865f",
   "metadata": {},
   "outputs": [
    {
     "data": {
      "text/html": [
       "<div>\n",
       "<style scoped>\n",
       "    .dataframe tbody tr th:only-of-type {\n",
       "        vertical-align: middle;\n",
       "    }\n",
       "\n",
       "    .dataframe tbody tr th {\n",
       "        vertical-align: top;\n",
       "    }\n",
       "\n",
       "    .dataframe thead th {\n",
       "        text-align: right;\n",
       "    }\n",
       "</style>\n",
       "<table border=\"1\" class=\"dataframe\">\n",
       "  <thead>\n",
       "    <tr style=\"text-align: right;\">\n",
       "      <th></th>\n",
       "      <th>type</th>\n",
       "      <th>name</th>\n",
       "      <th>age</th>\n",
       "      <th>breed1</th>\n",
       "      <th>breed2</th>\n",
       "      <th>gender</th>\n",
       "      <th>color1</th>\n",
       "      <th>color2</th>\n",
       "      <th>color3</th>\n",
       "      <th>maturitysize</th>\n",
       "      <th>...</th>\n",
       "      <th>health</th>\n",
       "      <th>quantity</th>\n",
       "      <th>fee</th>\n",
       "      <th>state</th>\n",
       "      <th>rescuerid</th>\n",
       "      <th>videoamt</th>\n",
       "      <th>description</th>\n",
       "      <th>petid</th>\n",
       "      <th>photoamt</th>\n",
       "      <th>adoptionspeed</th>\n",
       "    </tr>\n",
       "  </thead>\n",
       "  <tbody>\n",
       "    <tr>\n",
       "      <th>0</th>\n",
       "      <td>Cat</td>\n",
       "      <td>Nibble</td>\n",
       "      <td>3</td>\n",
       "      <td>Tabby</td>\n",
       "      <td>NaN</td>\n",
       "      <td>Male</td>\n",
       "      <td>Black</td>\n",
       "      <td>White</td>\n",
       "      <td>NaN</td>\n",
       "      <td>Small</td>\n",
       "      <td>...</td>\n",
       "      <td>Healthy</td>\n",
       "      <td>1</td>\n",
       "      <td>100</td>\n",
       "      <td>Selangor</td>\n",
       "      <td>8480853f516546f6cf33aa88cd76c379</td>\n",
       "      <td>0</td>\n",
       "      <td>Nibble is a 3+ month old ball of cuteness. He ...</td>\n",
       "      <td>86e1089a3</td>\n",
       "      <td>1.0</td>\n",
       "      <td>2</td>\n",
       "    </tr>\n",
       "    <tr>\n",
       "      <th>1</th>\n",
       "      <td>Cat</td>\n",
       "      <td>No Name Yet</td>\n",
       "      <td>1</td>\n",
       "      <td>Domestic Medium Hair</td>\n",
       "      <td>NaN</td>\n",
       "      <td>Male</td>\n",
       "      <td>Black</td>\n",
       "      <td>Brown</td>\n",
       "      <td>NaN</td>\n",
       "      <td>Medium</td>\n",
       "      <td>...</td>\n",
       "      <td>Healthy</td>\n",
       "      <td>1</td>\n",
       "      <td>0</td>\n",
       "      <td>Kuala Lumpur</td>\n",
       "      <td>3082c7125d8fb66f7dd4bff4192c8b14</td>\n",
       "      <td>0</td>\n",
       "      <td>I just found it alone yesterday near my apartm...</td>\n",
       "      <td>6296e909a</td>\n",
       "      <td>2.0</td>\n",
       "      <td>0</td>\n",
       "    </tr>\n",
       "    <tr>\n",
       "      <th>2</th>\n",
       "      <td>Dog</td>\n",
       "      <td>Brisco</td>\n",
       "      <td>1</td>\n",
       "      <td>Mixed Breed</td>\n",
       "      <td>NaN</td>\n",
       "      <td>Male</td>\n",
       "      <td>Brown</td>\n",
       "      <td>White</td>\n",
       "      <td>NaN</td>\n",
       "      <td>Medium</td>\n",
       "      <td>...</td>\n",
       "      <td>Healthy</td>\n",
       "      <td>1</td>\n",
       "      <td>0</td>\n",
       "      <td>Selangor</td>\n",
       "      <td>fa90fa5b1ee11c86938398b60abc32cb</td>\n",
       "      <td>0</td>\n",
       "      <td>Their pregnant mother was dumped by her irresp...</td>\n",
       "      <td>3422e4906</td>\n",
       "      <td>7.0</td>\n",
       "      <td>3</td>\n",
       "    </tr>\n",
       "    <tr>\n",
       "      <th>3</th>\n",
       "      <td>Dog</td>\n",
       "      <td>Miko</td>\n",
       "      <td>4</td>\n",
       "      <td>Mixed Breed</td>\n",
       "      <td>NaN</td>\n",
       "      <td>Female</td>\n",
       "      <td>Black</td>\n",
       "      <td>Brown</td>\n",
       "      <td>NaN</td>\n",
       "      <td>Medium</td>\n",
       "      <td>...</td>\n",
       "      <td>Healthy</td>\n",
       "      <td>1</td>\n",
       "      <td>150</td>\n",
       "      <td>Kuala Lumpur</td>\n",
       "      <td>9238e4f44c71a75282e62f7136c6b240</td>\n",
       "      <td>0</td>\n",
       "      <td>Good guard dog, very alert, active, obedience ...</td>\n",
       "      <td>5842f1ff5</td>\n",
       "      <td>8.0</td>\n",
       "      <td>2</td>\n",
       "    </tr>\n",
       "    <tr>\n",
       "      <th>4</th>\n",
       "      <td>Dog</td>\n",
       "      <td>Hunter</td>\n",
       "      <td>1</td>\n",
       "      <td>Mixed Breed</td>\n",
       "      <td>NaN</td>\n",
       "      <td>Male</td>\n",
       "      <td>Black</td>\n",
       "      <td>NaN</td>\n",
       "      <td>NaN</td>\n",
       "      <td>Medium</td>\n",
       "      <td>...</td>\n",
       "      <td>Healthy</td>\n",
       "      <td>1</td>\n",
       "      <td>0</td>\n",
       "      <td>Selangor</td>\n",
       "      <td>95481e953f8aed9ec3d16fc4509537e8</td>\n",
       "      <td>0</td>\n",
       "      <td>This handsome yet cute boy is up for adoption....</td>\n",
       "      <td>850a43f90</td>\n",
       "      <td>3.0</td>\n",
       "      <td>2</td>\n",
       "    </tr>\n",
       "  </tbody>\n",
       "</table>\n",
       "<p>5 rows × 24 columns</p>\n",
       "</div>"
      ],
      "text/plain": [
       "  type         name  age                breed1 breed2  gender color1 color2  \\\n",
       "0  Cat       Nibble    3                 Tabby    NaN    Male  Black  White   \n",
       "1  Cat  No Name Yet    1  Domestic Medium Hair    NaN    Male  Black  Brown   \n",
       "2  Dog       Brisco    1           Mixed Breed    NaN    Male  Brown  White   \n",
       "3  Dog         Miko    4           Mixed Breed    NaN  Female  Black  Brown   \n",
       "4  Dog       Hunter    1           Mixed Breed    NaN    Male  Black    NaN   \n",
       "\n",
       "  color3 maturitysize  ...   health quantity  fee         state  \\\n",
       "0    NaN        Small  ...  Healthy        1  100      Selangor   \n",
       "1    NaN       Medium  ...  Healthy        1    0  Kuala Lumpur   \n",
       "2    NaN       Medium  ...  Healthy        1    0      Selangor   \n",
       "3    NaN       Medium  ...  Healthy        1  150  Kuala Lumpur   \n",
       "4    NaN       Medium  ...  Healthy        1    0      Selangor   \n",
       "\n",
       "                          rescuerid  videoamt  \\\n",
       "0  8480853f516546f6cf33aa88cd76c379         0   \n",
       "1  3082c7125d8fb66f7dd4bff4192c8b14         0   \n",
       "2  fa90fa5b1ee11c86938398b60abc32cb         0   \n",
       "3  9238e4f44c71a75282e62f7136c6b240         0   \n",
       "4  95481e953f8aed9ec3d16fc4509537e8         0   \n",
       "\n",
       "                                         description      petid photoamt  \\\n",
       "0  Nibble is a 3+ month old ball of cuteness. He ...  86e1089a3      1.0   \n",
       "1  I just found it alone yesterday near my apartm...  6296e909a      2.0   \n",
       "2  Their pregnant mother was dumped by her irresp...  3422e4906      7.0   \n",
       "3  Good guard dog, very alert, active, obedience ...  5842f1ff5      8.0   \n",
       "4  This handsome yet cute boy is up for adoption....  850a43f90      3.0   \n",
       "\n",
       "   adoptionspeed  \n",
       "0              2  \n",
       "1              0  \n",
       "2              3  \n",
       "3              2  \n",
       "4              2  \n",
       "\n",
       "[5 rows x 24 columns]"
      ]
     },
     "execution_count": 20,
     "metadata": {},
     "output_type": "execute_result"
    }
   ],
   "source": [
    "data.head()"
   ]
  },
  {
   "cell_type": "markdown",
   "id": "56bd3894-bcfe-44b6-a0a1-ff446e5804a0",
   "metadata": {},
   "source": [
    "## Target feature"
   ]
  },
  {
   "cell_type": "markdown",
   "id": "98881a5e-52cd-41a8-9a70-beab2806e767",
   "metadata": {},
   "source": [
    "We shall predict if a pet will be adopted eventually. To do this, we shall convert"
   ]
  },
  {
   "cell_type": "code",
   "execution_count": 21,
   "id": "3c05a368-8ce5-4496-9271-a2f64feda2b8",
   "metadata": {},
   "outputs": [],
   "source": [
    "def createTargetIsAdopted(data):\n",
    "    data['isadopted'] = data['adoptionspeed'].apply(lambda x: 0 if x == '4' else 1)\n",
    "\n",
    "createTargetIsAdopted(data)"
   ]
  },
  {
   "cell_type": "markdown",
   "id": "7035bb54-60c3-4665-8752-47ba4a4ceecd",
   "metadata": {},
   "source": [
    "## Number of colours feature"
   ]
  },
  {
   "cell_type": "code",
   "execution_count": 22,
   "id": "cc5e4bc6-2dcc-447e-973a-dc83976833f5",
   "metadata": {},
   "outputs": [],
   "source": [
    "def createNumColorFeature(data):\n",
    "    # Count number of colors present\n",
    "    data['numcolors'] = data[['color1', 'color2', 'color3']].notna().sum(axis=1)\n",
    "\n",
    "createNumColorFeature(data)"
   ]
  },
  {
   "cell_type": "markdown",
   "id": "09e53fda-198e-420f-b9ae-69dacaa07928",
   "metadata": {},
   "source": [
    "## Is Pure Breed feature"
   ]
  },
  {
   "cell_type": "code",
   "execution_count": 23,
   "id": "807ca25c-dc2d-4bf1-ac03-e5d63baecb15",
   "metadata": {},
   "outputs": [],
   "source": [
    "def isPureBreedFeature(data):\n",
    "    # Create a new column 'ispurebreed' based on conditions\n",
    "    data['ispurebreed'] = data.apply(lambda x: 'Yes' if pd.notna(x['breed1']) and pd.isnull(x['breed2']) else 'No', axis=1)\n",
    "\n",
    "isPureBreedFeature(data)"
   ]
  },
  {
   "cell_type": "markdown",
   "id": "d62e98fe-44b5-4ec1-8466-2d9268084a4e",
   "metadata": {},
   "source": [
    "## Has name feature"
   ]
  },
  {
   "cell_type": "code",
   "execution_count": 24,
   "id": "e97191fc-e018-47f3-b0e2-ea37906a960e",
   "metadata": {},
   "outputs": [],
   "source": [
    "def createHasNameFeature(data):\n",
    "    # Create 'hasname' feature based on 'name' column\n",
    "    data['hasname'] = data['name'].notna() & data['name'].str.strip().astype(bool)\n",
    "    \n",
    "    # Convert boolean to 'Y' and 'N'\n",
    "    data['hasname'] = data['hasname'].map({True: 'Y', False: 'N'})\n",
    "\n",
    "createHasNameFeature(data)"
   ]
  },
  {
   "cell_type": "markdown",
   "id": "09aa212a-1ffe-4b47-a5c0-5ed67188e2fb",
   "metadata": {},
   "source": [
    "Replace missing name values with 'No Name'"
   ]
  },
  {
   "cell_type": "code",
   "execution_count": 25,
   "id": "a4ac790b-5be0-44d1-b1c7-6d39d33b1417",
   "metadata": {},
   "outputs": [],
   "source": [
    "data['name'] = data['name'].fillna('No Name')"
   ]
  },
  {
   "cell_type": "markdown",
   "id": "8546b722-e2af-4a24-9932-546ce394dab8",
   "metadata": {},
   "source": [
    "## Bin features"
   ]
  },
  {
   "cell_type": "code",
   "execution_count": 26,
   "id": "9601f251-c73c-4add-b61d-dda43c2245e1",
   "metadata": {},
   "outputs": [],
   "source": [
    "def binAge(data):\n",
    "    # Define bin edges\n",
    "    bin_edges = [0, 3, 6, 12, 24, 60, 256]\n",
    "    \n",
    "    # Define bin labels\n",
    "    bin_labels = ['0-3', '4-6', '7-12', '13-24', '25-60', '61-255']\n",
    "    \n",
    "    # Create bins for 'age'\n",
    "    data['agebins'] = pd.cut(data['age'], bins=bin_edges, labels=bin_labels, right=False)"
   ]
  },
  {
   "cell_type": "code",
   "execution_count": 27,
   "id": "5c82f1bc-9e88-439e-a978-3af862c3f994",
   "metadata": {},
   "outputs": [],
   "source": [
    "def binFee(data):\n",
    "    # Define bin edges and labels\n",
    "    bin_edges = [0, 1, 100, 200, 3001]\n",
    "    bin_labels = ['0', '1-100', '101-200', '201-3000']\n",
    "    \n",
    "    # Create bins for 'fees'\n",
    "    data['feesbins'] = pd.cut(data['fee'], bins=bin_edges, labels=bin_labels, right=False)"
   ]
  },
  {
   "cell_type": "code",
   "execution_count": 28,
   "id": "1e5784ba-0eb2-4d31-8340-0d88293787a6",
   "metadata": {},
   "outputs": [],
   "source": [
    "def binVideoAmt(data):\n",
    "    # Define bin edges and labels\n",
    "    bin_edges = [0, 1, 2, float('inf')]\n",
    "    bin_labels = ['0', '1', '>=2']\n",
    "    \n",
    "    # Create bins for 'video_amt'\n",
    "    data['videoamtbins'] = pd.cut(data['videoamt'], bins=bin_edges, labels=bin_labels, right=True, include_lowest=True)"
   ]
  },
  {
   "cell_type": "code",
   "execution_count": 29,
   "id": "4518cc2d-c133-4926-9773-419cf1b0fd2f",
   "metadata": {},
   "outputs": [],
   "source": [
    "def binPhotoAmt(data):\n",
    "    # Define bin edges and labels\n",
    "    bin_edges = [0, 1, 2, 3, 4, 5, 6, float('inf')]\n",
    "    bin_labels = ['0', '1', '2', '3', '4', '5', '>=6']\n",
    "    \n",
    "    # Create bins for 'photo_amt'\n",
    "    data['photoamtbins'] = pd.cut(data['photoamt'], bins=bin_edges, labels=bin_labels, right=False)"
   ]
  },
  {
   "cell_type": "code",
   "execution_count": 30,
   "id": "67ca6fa4-fa1a-4ef2-b0ea-ba9c6e4ef735",
   "metadata": {},
   "outputs": [],
   "source": [
    "def binQuantity(data):\n",
    "    # Define bin edges and labels\n",
    "    bin_edges = [1, 2, 3, 4, 5, 6, float('inf')]\n",
    "    bin_labels = ['1', '2', '3', '4', '5', '>=6']\n",
    "    \n",
    "    # Create bins for 'photo_amt'\n",
    "    data['quantitybins'] = pd.cut(data['quantity'], bins=bin_edges, labels=bin_labels, right=False)"
   ]
  },
  {
   "cell_type": "code",
   "execution_count": 31,
   "id": "c401017f-85f1-4500-88a7-65e1ce88c98a",
   "metadata": {},
   "outputs": [],
   "source": [
    "def binBreed(data):\n",
    "    # Top 6 breeds maps\n",
    "    breed_mapping = {\n",
    "        'Domestic Long Hair': 'Domestic Long Hair',\n",
    "        'Domestic Medium Hair': 'Domestic Medium Hair',\n",
    "        'Domestic Short Hair': 'Domestic Short Hair',\n",
    "        'Mixed Breed': 'Mixed Breed',\n",
    "        'Siamese': 'Siamese',\n",
    "        'Tabby': 'Tabby'\n",
    "    }\n",
    "    \n",
    "    # Apply the mapping and assign 'Others' to unspecified breeds\n",
    "    data['breedbins'] = data['breed1'].map(breed_mapping).fillna('Others')"
   ]
  },
  {
   "cell_type": "code",
   "execution_count": 32,
   "id": "9fc5efde-7e72-4eae-aa98-5bad6b02bbc9",
   "metadata": {},
   "outputs": [],
   "source": [
    "def binState(data):\n",
    "    # Define the mapping for state\n",
    "    state_mapping = {\n",
    "        'Johor': 'Johor',\n",
    "        'Kuala Lumpur': 'Kuala Lumpur',\n",
    "        'Negeri Sembilan': 'Negeri Sembilan',\n",
    "        'Pulau Pinang': 'Pulau Pinang',\n",
    "        'Perak': 'Perak',\n",
    "        'Selangor': 'Selangor'\n",
    "    }\n",
    "    \n",
    "    # Apply the mapping and assign 'Others' to unspecified states\n",
    "    data['statebins'] = data['state'].map(state_mapping).fillna('Others')"
   ]
  },
  {
   "cell_type": "code",
   "execution_count": 33,
   "id": "482fa7ab-e8a2-47cf-80a8-32de52b7e9e7",
   "metadata": {},
   "outputs": [],
   "source": [
    "def binRescuerId(data):\n",
    "    # Find the top 30 most frequent rescuer IDs\n",
    "    top_30_rescuerids = data['rescuerid'].value_counts().nlargest(30).index\n",
    "    \n",
    "    # Create a new feature 'rescuerid_binned'\n",
    "    data['rescueridbins'] = data['rescuerid'].apply(lambda x: x if x in top_30_rescuerids else 'others')"
   ]
  },
  {
   "cell_type": "code",
   "execution_count": 34,
   "id": "d108a182-4ee3-4292-b4ff-204ec46afd9f",
   "metadata": {},
   "outputs": [],
   "source": [
    "def binFeatures(data, features):\n",
    "    for feature in features:\n",
    "        if feature == 'age':\n",
    "            binAge(data)\n",
    "        elif feature == 'fee':\n",
    "            binFee(data)\n",
    "        elif feature == 'photoamt':\n",
    "            binPhotoAmt(data)\n",
    "        elif feature == 'videoamt':\n",
    "            binVideoAmt(data)\n",
    "        elif feature == 'quantity':\n",
    "            binQuantity(data)\n",
    "        elif feature == 'breed1':\n",
    "            binBreed(data)\n",
    "        elif feature == 'state':\n",
    "            binState(data)\n",
    "        elif feature =='rescuerid':\n",
    "            binRescuerId(data)\n",
    "        else:\n",
    "            continue\n",
    "\n",
    "features_to_bin = ['age', 'fee', 'photoamt', 'videoamt', 'quantity', 'breed1', 'state', 'rescuerid']\n",
    "binFeatures(data, features_to_bin)"
   ]
  },
  {
   "cell_type": "markdown",
   "id": "34859a3d-0954-47ad-a08a-ca8762bb210b",
   "metadata": {},
   "source": [
    "## Re-analyse data with engineered features"
   ]
  },
  {
   "cell_type": "markdown",
   "id": "7dc33bdd-39f5-4b5e-9a7f-063f9f3b49d9",
   "metadata": {},
   "source": [
    "### Automated analysis for quick visualisations"
   ]
  },
  {
   "cell_type": "code",
   "execution_count": 35,
   "id": "693f3145-9292-4f38-b7cd-560d20ede3a8",
   "metadata": {},
   "outputs": [
    {
     "data": {
      "application/vnd.jupyter.widget-view+json": {
       "model_id": "c797a36f3214489cbc797c113aa0f868",
       "version_major": 2,
       "version_minor": 0
      },
      "text/plain": [
       "                                             |                                                                …"
      ]
     },
     "metadata": {},
     "output_type": "display_data"
    },
    {
     "name": "stdout",
     "output_type": "stream",
     "text": [
      "Report ./engineered_features_analysis_report.html was generated! NOTEBOOK/COLAB USERS: the web browser MAY not pop up, regardless, the report IS saved in your notebook/colab files.\n"
     ]
    }
   ],
   "source": [
    "engineered_features_report = sv.analyze(data)\n",
    "\n",
    "# Generate Sweetviz HTML report\n",
    "engineered_features_report.show_html('./engineered_features_analysis_report.html') "
   ]
  },
  {
   "cell_type": "markdown",
   "id": "4f2f6f44-5b10-43b1-8400-9a613f0057cc",
   "metadata": {},
   "source": [
    "### Chi-square test to determine correlation of categorical features with adoption speed target"
   ]
  },
  {
   "cell_type": "code",
   "execution_count": 36,
   "id": "3e252767-ccb1-42ca-a820-87d965c45c51",
   "metadata": {},
   "outputs": [],
   "source": [
    "from scipy.stats import chi2_contingency"
   ]
  },
  {
   "cell_type": "code",
   "execution_count": 37,
   "id": "3842ba28-a921-413b-bc55-74408dfda2f6",
   "metadata": {},
   "outputs": [],
   "source": [
    "categorical_cols = ['type', 'gender', 'color1', 'maturitysize', 'furlength', \n",
    "                    'vaccinated', 'dewormed', 'sterilized', 'health', \n",
    "                    'hasname', 'agebins', 'feesbins', 'photoamtbins', 'videoamtbins', \n",
    "                    'quantitybins', 'breedbins', 'statebins', 'rescueridbins', 'ispurebreed', 'numcolors']"
   ]
  },
  {
   "cell_type": "code",
   "execution_count": 38,
   "id": "40cb1075-3c15-4e01-99d2-b56392f5eb9a",
   "metadata": {},
   "outputs": [
    {
     "name": "stdout",
     "output_type": "stream",
     "text": [
      "          Feature  Chi-square        p-value\n",
      "10        agebins  862.169470  4.092574e-184\n",
      "17  rescueridbins  732.083273  9.909306e-135\n",
      "7      sterilized  664.722689  4.542576e-145\n",
      "12   photoamtbins  364.797702   1.025561e-75\n",
      "15      breedbins  233.153501   1.625567e-47\n",
      "5      vaccinated  163.973640   2.475007e-36\n",
      "16      statebins  162.071234   2.156345e-32\n",
      "14   quantitybins   65.066343   1.085781e-12\n",
      "4       furlength   62.029287   3.392434e-14\n",
      "6        dewormed   56.188051   6.293898e-13\n",
      "1          gender   31.271375   1.619971e-07\n",
      "2          color1   28.462642   7.686506e-05\n",
      "9         hasname   27.540283   1.538564e-07\n",
      "0            type   24.843857   6.216685e-07\n",
      "11       feesbins   24.554903   1.912908e-05\n",
      "3    maturitysize   21.528083   8.177192e-05\n",
      "18    ispurebreed   20.465026   6.073090e-06\n",
      "19      numcolors   20.278883   3.949086e-05\n",
      "8          health   16.146371   3.117885e-04\n",
      "13   videoamtbins    7.720386   2.106393e-02\n"
     ]
    }
   ],
   "source": [
    "# Calculate Chi-square and p-values for each categorical feature\n",
    "chi2_scores = []\n",
    "p_values = []\n",
    "\n",
    "for feature in categorical_cols:\n",
    "    contingency_table = pd.crosstab(data[feature], data['isadopted'])\n",
    "    chi2, p, dof, expected = chi2_contingency(contingency_table)\n",
    "    chi2_scores.append(chi2)\n",
    "    p_values.append(p)\n",
    "\n",
    "# Display results\n",
    "results = pd.DataFrame({\n",
    "    'Feature': categorical_cols,\n",
    "    'Chi-square': chi2_scores,\n",
    "    'p-value': p_values\n",
    "})\n",
    "\n",
    "# Sort results by Chi-square value from highest to lowest\n",
    "sorted_results = results.sort_values(by='Chi-square', ascending=False)\n",
    "\n",
    "print(sorted_results)"
   ]
  },
  {
   "cell_type": "markdown",
   "id": "52ba5454-f09d-4256-9b94-59930370216d",
   "metadata": {},
   "source": [
    "## Selecting features"
   ]
  },
  {
   "cell_type": "markdown",
   "id": "0f43b215-45ce-440f-9662-d0cfdb892e74",
   "metadata": {},
   "source": [
    "#### Justification for Feature Selection:\n",
    "- Significant Association: Features selected for the model exhibit significant associations with the target variable ('isadopted') based on chi-square tests.\n",
    "- Statistical Significance: Features like 'agebins', 'sterilized', 'photoamtbins', 'breedbins', 'vaccinated', and 'statebins' have very low p-values (well below 0.05), indicating strong statistical significance in their relationship with pet adoption.\n",
    "- Predictive Power: These features are likely to contribute significantly to the predictive power of your model, as they capture important aspects related to pet adoption such as age, sterilization status, breed type, vaccination status, and geographical location.\n",
    "- Replacement Consideration: 'rescueridbins' was replaced with 'quantitybins' due to the latter's moderately significant association with 'isadopted', offering a potentially valuable predictor for adoption outcomes.\n",
    "- Modeling Strategy: By focusing on features with strong statistical associations and predictive potential, the model is expected to better capture and generalize patterns related to pet adoption, thereby improving overall performance and interpretability"
   ]
  },
  {
   "cell_type": "markdown",
   "id": "f7c93359-5a66-45d0-b765-bb9e244fa090",
   "metadata": {},
   "source": [
    "Note that rescueridbins feature is not selected due to its complexity and sparsity. The feature 'rescueridbins' likely has a high number of unique values (high cardinality), which can lead to sparsity. This means that many rescuers might have only a few instances, making it difficult for the model to learn meaningful patterns. We shall replace this with the next best option 'quantitybins'."
   ]
  },
  {
   "cell_type": "code",
   "execution_count": 39,
   "id": "b3b121f3-d791-4ebd-85d9-6c0894a02c0f",
   "metadata": {},
   "outputs": [],
   "source": [
    "selected_features = ['agebins', 'sterilized', 'photoamtbins', 'breedbins', 'vaccinated', 'statebins', 'quantitybins', 'isadopted']"
   ]
  },
  {
   "cell_type": "markdown",
   "id": "4aac75bb-2a06-4868-ac9e-15935ab591b1",
   "metadata": {},
   "source": [
    "# Train Model"
   ]
  },
  {
   "cell_type": "markdown",
   "id": "12082c09-8e02-46ba-a464-ca07c59f3f9a",
   "metadata": {},
   "source": [
    "## Import libraries"
   ]
  },
  {
   "cell_type": "code",
   "execution_count": 40,
   "id": "dd7bad91-7b4b-4b28-84e5-3cbe77971f10",
   "metadata": {},
   "outputs": [],
   "source": [
    "import tensorflow as tf\n",
    "from tensorflow.keras import layers\n",
    "from tensorflow.keras.callbacks import EarlyStopping\n",
    "import matplotlib.pyplot as plt\n",
    "from sklearn.metrics import classification_report, confusion_matrix, roc_auc_score\n",
    "import matplotlib.pyplot as plt\n",
    "from sklearn.metrics import roc_curve, auc"
   ]
  },
  {
   "cell_type": "markdown",
   "id": "a013b4c2-feb0-4400-b745-5c92cb9808b1",
   "metadata": {},
   "source": [
    "## Copy dataframe and drop unused features"
   ]
  },
  {
   "cell_type": "code",
   "execution_count": 41,
   "id": "3826dca0-28fc-46db-a52a-876a6de0403d",
   "metadata": {},
   "outputs": [],
   "source": [
    "dataframe = data.copy()"
   ]
  },
  {
   "cell_type": "markdown",
   "id": "930791fc-e49f-42f5-915d-d099a8e91088",
   "metadata": {},
   "source": [
    "With reference to the selected features above, we will drop all other features that are not selected. Take note that we will also be removing original features that have been binned or deemed to have little meaning"
   ]
  },
  {
   "cell_type": "code",
   "execution_count": 42,
   "id": "b167cf13-ac4f-4252-b982-6ff611e5f613",
   "metadata": {},
   "outputs": [
    {
     "name": "stdout",
     "output_type": "stream",
     "text": [
      "all features =  ['type', 'name', 'age', 'breed1', 'breed2', 'gender', 'color1', 'color2', 'color3', 'maturitysize', 'furlength', 'vaccinated', 'dewormed', 'sterilized', 'health', 'quantity', 'fee', 'state', 'rescuerid', 'videoamt', 'description', 'petid', 'photoamt', 'adoptionspeed', 'isadopted', 'numcolors', 'ispurebreed', 'hasname', 'agebins', 'feesbins', 'photoamtbins', 'videoamtbins', 'quantitybins', 'breedbins', 'statebins', 'rescueridbins']\n",
      "\n",
      "features to drop =  ['type', 'name', 'age', 'breed1', 'breed2', 'gender', 'color1', 'color2', 'color3', 'maturitysize', 'furlength', 'dewormed', 'health', 'quantity', 'fee', 'state', 'rescuerid', 'videoamt', 'description', 'petid', 'photoamt', 'adoptionspeed', 'numcolors', 'ispurebreed', 'hasname', 'feesbins', 'videoamtbins', 'rescueridbins']\n"
     ]
    }
   ],
   "source": [
    "all_features = data.columns.tolist()\n",
    "\n",
    "print('all features = ', all_features)\n",
    "\n",
    "features_to_drop = []\n",
    "for feature in all_features:\n",
    "    if feature not in selected_features:\n",
    "        features_to_drop.append(feature)\n",
    "\n",
    "print()\n",
    "print('features to drop = ', features_to_drop)"
   ]
  },
  {
   "cell_type": "code",
   "execution_count": 43,
   "id": "e0491692-b0df-400b-92f9-055a533d4832",
   "metadata": {},
   "outputs": [
    {
     "name": "stdout",
     "output_type": "stream",
     "text": [
      "['vaccinated', 'sterilized', 'isadopted', 'agebins', 'photoamtbins', 'quantitybins', 'breedbins', 'statebins']\n"
     ]
    }
   ],
   "source": [
    "dataCleaningDropFeatures(dataframe, features_to_drop)\n",
    "\n",
    "print(dataframe.columns.tolist())"
   ]
  },
  {
   "cell_type": "markdown",
   "id": "9106862e-1f99-410e-bb2f-79992ea43181",
   "metadata": {},
   "source": [
    "## Train-Test-Validation split"
   ]
  },
  {
   "cell_type": "code",
   "execution_count": 44,
   "id": "746f4856-4910-46b1-9d58-ecb2c9bfa1af",
   "metadata": {},
   "outputs": [
    {
     "name": "stderr",
     "output_type": "stream",
     "text": [
      "C:\\Users\\Damien Wee\\anaconda3\\Lib\\site-packages\\numpy\\core\\fromnumeric.py:59: FutureWarning: 'DataFrame.swapaxes' is deprecated and will be removed in a future version. Please use 'DataFrame.transpose' instead.\n",
      "  return bound(*args, **kwds)\n"
     ]
    }
   ],
   "source": [
    "train, val, test = np.split(dataframe.sample(frac=1), [int(0.8*len(dataframe)), int(0.9*len(dataframe))])"
   ]
  },
  {
   "cell_type": "markdown",
   "id": "681163bb-fb42-4841-b87f-9cf058f42fec",
   "metadata": {},
   "source": [
    "## Input pipeline"
   ]
  },
  {
   "cell_type": "markdown",
   "id": "2e4327c4-f646-4821-8caa-bee386aa5071",
   "metadata": {},
   "source": [
    "This utility function converts each training, validation, and test set DataFrame into a tf.data.Dataset, then shuffles and batches the data."
   ]
  },
  {
   "cell_type": "code",
   "execution_count": 45,
   "id": "d8d15f91-5634-4078-af81-17a41ae86506",
   "metadata": {},
   "outputs": [],
   "source": [
    "def df_to_dataset(dataframe, shuffle=True, batch_size=32):\n",
    "  df = dataframe.copy()\n",
    "  labels = df.pop('isadopted')\n",
    "  df = {key: value.values[:,tf.newaxis] for key, value in dataframe.items()}\n",
    "  ds = tf.data.Dataset.from_tensor_slices((dict(df), labels))\n",
    "  if shuffle:\n",
    "    ds = ds.shuffle(buffer_size=len(dataframe))\n",
    "  ds = ds.batch(batch_size)\n",
    "  ds = ds.prefetch(batch_size)\n",
    "  return ds"
   ]
  },
  {
   "cell_type": "code",
   "execution_count": 46,
   "id": "96b21a1c-a3ed-4674-a915-c9ec853f37d2",
   "metadata": {},
   "outputs": [],
   "source": [
    "batch_size = 256\n",
    "train_ds = df_to_dataset(train, batch_size=batch_size)\n",
    "val_ds = df_to_dataset(val, shuffle=False, batch_size=batch_size)\n",
    "test_ds = df_to_dataset(test, shuffle=False, batch_size=batch_size)"
   ]
  },
  {
   "cell_type": "markdown",
   "id": "7b1cf2c7-17db-45b7-bd09-d0012880b314",
   "metadata": {},
   "source": [
    "## Preprocessing pipelines"
   ]
  },
  {
   "cell_type": "markdown",
   "id": "0e1c8a2f-d3b3-4c40-9c0e-2453aa9dfda9",
   "metadata": {},
   "source": [
    "### Numerical feature normalization"
   ]
  },
  {
   "cell_type": "code",
   "execution_count": 47,
   "id": "aad9ed10-0999-4995-abc1-148678a3654e",
   "metadata": {},
   "outputs": [],
   "source": [
    "def get_normalization_layer(name, dataset):\n",
    "  # Create a Normalization layer for the feature.\n",
    "  normalizer = layers.Normalization(axis=None)\n",
    "\n",
    "  # Prepare a Dataset that only yields the feature.\n",
    "  feature_ds = dataset.map(lambda x, y: x[name])\n",
    "\n",
    "  # Learn the statistics of the data.\n",
    "  normalizer.adapt(feature_ds)\n",
    "\n",
    "  return normalizer"
   ]
  },
  {
   "cell_type": "markdown",
   "id": "0ef03940-0fa7-4752-833e-50ae7f120166",
   "metadata": {},
   "source": [
    "### Categorical feature encoding"
   ]
  },
  {
   "cell_type": "code",
   "execution_count": 48,
   "id": "5056ea85-3ff7-4267-a2fc-8476d4103231",
   "metadata": {},
   "outputs": [],
   "source": [
    "def get_category_encoding_layer(name, dataset, dtype, max_tokens=None):\n",
    "  # Create a layer that turns strings into integer indices.\n",
    "  if dtype == 'string':\n",
    "    index = layers.StringLookup(max_tokens=max_tokens)\n",
    "  # Otherwise, create a layer that turns integer values into integer indices.\n",
    "  else:\n",
    "    index = layers.IntegerLookup(max_tokens=max_tokens)\n",
    "\n",
    "  # Prepare a `tf.data.Dataset` that only yields the feature.\n",
    "  feature_ds = dataset.map(lambda x, y: x[name])\n",
    "\n",
    "  # Learn the set of possible values and assign them a fixed integer index.\n",
    "  index.adapt(feature_ds)\n",
    "\n",
    "  # Encode the integer indices.\n",
    "  encoder = layers.CategoryEncoding(num_tokens=index.vocabulary_size())\n",
    "\n",
    "  # Apply multi-hot encoding to the indices. The lambda function captures the\n",
    "  # layer, so you can use them, or include them in the Keras Functional model later.\n",
    "  return lambda feature: encoder(index(feature))"
   ]
  },
  {
   "cell_type": "code",
   "execution_count": 49,
   "id": "d3533323-ce05-4f22-920a-12d1886e76c4",
   "metadata": {},
   "outputs": [],
   "source": [
    "selected_categorical_features = ['agebins', 'sterilized', 'photoamtbins', 'breedbins', 'vaccinated', 'statebins', 'quantitybins']"
   ]
  },
  {
   "cell_type": "code",
   "execution_count": 50,
   "id": "5425191b-32fa-46c7-8efd-42e81d5fccca",
   "metadata": {},
   "outputs": [],
   "source": [
    "selected_numerical_features = []"
   ]
  },
  {
   "cell_type": "code",
   "execution_count": 51,
   "id": "5c764cd0-b27c-4d77-8156-8e4cd0b83bd4",
   "metadata": {},
   "outputs": [],
   "source": [
    "all_inputs = []\n",
    "encoded_features = []"
   ]
  },
  {
   "cell_type": "code",
   "execution_count": 52,
   "id": "44192019-1744-4f77-8a74-16be7753a98f",
   "metadata": {},
   "outputs": [],
   "source": [
    "# Numerical features.\n",
    "for header in selected_numerical_features:\n",
    "  numeric_col = tf.keras.Input(shape=(1,), name=header)\n",
    "  normalization_layer = get_normalization_layer(header, train_ds)\n",
    "  encoded_numeric_col = normalization_layer(numeric_col)\n",
    "  all_inputs.append(numeric_col)\n",
    "  encoded_features.append(encoded_numeric_col)"
   ]
  },
  {
   "cell_type": "code",
   "execution_count": 53,
   "id": "e91559f7-be86-4385-8b5a-74adfcb15dc1",
   "metadata": {},
   "outputs": [],
   "source": [
    "# Categorical features\n",
    "for header in selected_categorical_features:\n",
    "  categorical_col = tf.keras.Input(shape=(1,), name=header, dtype='string')\n",
    "  encoding_layer = get_category_encoding_layer(name=header,\n",
    "                                               dataset=train_ds,\n",
    "                                               dtype='string',\n",
    "                                               max_tokens=5)\n",
    "  encoded_categorical_col = encoding_layer(categorical_col)\n",
    "  all_inputs.append(categorical_col)\n",
    "  encoded_features.append(encoded_categorical_col)"
   ]
  },
  {
   "cell_type": "markdown",
   "id": "4e444ad4-b68b-48aa-b502-bb522567d432",
   "metadata": {},
   "source": [
    "## Create model"
   ]
  },
  {
   "cell_type": "code",
   "execution_count": 54,
   "id": "93644587-8415-4b12-8f4c-422838167a3e",
   "metadata": {},
   "outputs": [],
   "source": [
    "all_features = tf.keras.layers.concatenate(encoded_features)\n",
    "\n",
    "# Build the updated model architecture\n",
    "x = tf.keras.layers.Dense(128, activation='relu')(all_features)\n",
    "x = tf.keras.layers.Dropout(0.5)(x)\n",
    "x = tf.keras.layers.Dense(64, activation='relu')(x)\n",
    "x = tf.keras.layers.Dropout(0.5)(x)\n",
    "x = tf.keras.layers.Dense(32, activation='relu')(x)\n",
    "x = tf.keras.layers.Dropout(0.5)(x)\n",
    "output = tf.keras.layers.Dense(1, activation='sigmoid')(x)\n",
    "\n",
    "model = tf.keras.Model(all_inputs, output)"
   ]
  },
  {
   "cell_type": "code",
   "execution_count": 55,
   "id": "dfc9c797-7880-4c11-8e13-5be92bdbb689",
   "metadata": {},
   "outputs": [],
   "source": [
    "# Compile the model with Adam optimizer, binary crossentropy loss, and multiple metrics\n",
    "model.compile(optimizer='adam',\n",
    "              loss='binary_crossentropy',\n",
    "              metrics=['accuracy',\n",
    "                       tf.keras.metrics.Precision(name='precision'),\n",
    "                       tf.keras.metrics.Recall(name='recall'),\n",
    "                       tf.keras.metrics.AUC(name='auc')])"
   ]
  },
  {
   "cell_type": "code",
   "execution_count": 56,
   "id": "26e2ddd7-cda0-41b2-ac0a-388eb5b8831d",
   "metadata": {
    "scrolled": true
   },
   "outputs": [
    {
     "name": "stdout",
     "output_type": "stream",
     "text": [
      "Epoch 1/200\n",
      "\u001b[1m47/47\u001b[0m \u001b[32m━━━━━━━━━━━━━━━━━━━━\u001b[0m\u001b[37m\u001b[0m \u001b[1m3s\u001b[0m 14ms/step - accuracy: 0.6907 - auc: 0.5421 - loss: 0.6181 - precision: 0.7235 - recall: 0.9231 - val_accuracy: 0.7335 - val_auc: 0.7153 - val_loss: 0.5520 - val_precision: 0.7335 - val_recall: 1.0000\n",
      "Epoch 2/200\n",
      "\u001b[1m47/47\u001b[0m \u001b[32m━━━━━━━━━━━━━━━━━━━━\u001b[0m\u001b[37m\u001b[0m \u001b[1m0s\u001b[0m 3ms/step - accuracy: 0.7157 - auc: 0.6463 - loss: 0.5712 - precision: 0.7189 - recall: 0.9895 - val_accuracy: 0.7308 - val_auc: 0.7256 - val_loss: 0.5352 - val_precision: 0.7340 - val_recall: 0.9927\n",
      "Epoch 3/200\n",
      "\u001b[1m47/47\u001b[0m \u001b[32m━━━━━━━━━━━━━━━━━━━━\u001b[0m\u001b[37m\u001b[0m \u001b[1m0s\u001b[0m 4ms/step - accuracy: 0.7194 - auc: 0.6456 - loss: 0.5703 - precision: 0.7270 - recall: 0.9776 - val_accuracy: 0.7341 - val_auc: 0.7326 - val_loss: 0.5286 - val_precision: 0.7458 - val_recall: 0.9672\n",
      "Epoch 4/200\n",
      "\u001b[1m47/47\u001b[0m \u001b[32m━━━━━━━━━━━━━━━━━━━━\u001b[0m\u001b[37m\u001b[0m \u001b[1m0s\u001b[0m 3ms/step - accuracy: 0.7267 - auc: 0.6978 - loss: 0.5437 - precision: 0.7347 - recall: 0.9745 - val_accuracy: 0.7401 - val_auc: 0.7359 - val_loss: 0.5231 - val_precision: 0.7527 - val_recall: 0.9617\n",
      "Epoch 5/200\n",
      "\u001b[1m47/47\u001b[0m \u001b[32m━━━━━━━━━━━━━━━━━━━━\u001b[0m\u001b[37m\u001b[0m \u001b[1m0s\u001b[0m 3ms/step - accuracy: 0.7264 - auc: 0.6997 - loss: 0.5517 - precision: 0.7343 - recall: 0.9681 - val_accuracy: 0.7468 - val_auc: 0.7372 - val_loss: 0.5197 - val_precision: 0.7709 - val_recall: 0.9317\n",
      "Epoch 6/200\n",
      "\u001b[1m47/47\u001b[0m \u001b[32m━━━━━━━━━━━━━━━━━━━━\u001b[0m\u001b[37m\u001b[0m \u001b[1m0s\u001b[0m 4ms/step - accuracy: 0.7247 - auc: 0.7033 - loss: 0.5483 - precision: 0.7366 - recall: 0.9563 - val_accuracy: 0.7508 - val_auc: 0.7389 - val_loss: 0.5172 - val_precision: 0.7732 - val_recall: 0.9344\n",
      "Epoch 7/200\n",
      "\u001b[1m47/47\u001b[0m \u001b[32m━━━━━━━━━━━━━━━━━━━━\u001b[0m\u001b[37m\u001b[0m \u001b[1m0s\u001b[0m 4ms/step - accuracy: 0.7332 - auc: 0.7090 - loss: 0.5425 - precision: 0.7464 - recall: 0.9546 - val_accuracy: 0.7428 - val_auc: 0.7402 - val_loss: 0.5169 - val_precision: 0.7761 - val_recall: 0.9126\n",
      "Epoch 8/200\n",
      "\u001b[1m47/47\u001b[0m \u001b[32m━━━━━━━━━━━━━━━━━━━━\u001b[0m\u001b[37m\u001b[0m \u001b[1m0s\u001b[0m 3ms/step - accuracy: 0.7384 - auc: 0.7032 - loss: 0.5433 - precision: 0.7520 - recall: 0.9535 - val_accuracy: 0.7435 - val_auc: 0.7412 - val_loss: 0.5166 - val_precision: 0.7829 - val_recall: 0.8998\n",
      "Epoch 9/200\n",
      "\u001b[1m47/47\u001b[0m \u001b[32m━━━━━━━━━━━━━━━━━━━━\u001b[0m\u001b[37m\u001b[0m \u001b[1m0s\u001b[0m 4ms/step - accuracy: 0.7280 - auc: 0.7115 - loss: 0.5445 - precision: 0.7458 - recall: 0.9376 - val_accuracy: 0.7428 - val_auc: 0.7430 - val_loss: 0.5124 - val_precision: 0.7779 - val_recall: 0.9089\n",
      "Epoch 10/200\n",
      "\u001b[1m47/47\u001b[0m \u001b[32m━━━━━━━━━━━━━━━━━━━━\u001b[0m\u001b[37m\u001b[0m \u001b[1m0s\u001b[0m 3ms/step - accuracy: 0.7340 - auc: 0.7143 - loss: 0.5381 - precision: 0.7484 - recall: 0.9467 - val_accuracy: 0.7442 - val_auc: 0.7428 - val_loss: 0.5141 - val_precision: 0.7804 - val_recall: 0.9062\n",
      "Epoch 11/200\n",
      "\u001b[1m47/47\u001b[0m \u001b[32m━━━━━━━━━━━━━━━━━━━━\u001b[0m\u001b[37m\u001b[0m \u001b[1m0s\u001b[0m 3ms/step - accuracy: 0.7371 - auc: 0.7185 - loss: 0.5399 - precision: 0.7551 - recall: 0.9366 - val_accuracy: 0.7488 - val_auc: 0.7434 - val_loss: 0.5165 - val_precision: 0.7870 - val_recall: 0.9016\n",
      "Epoch 12/200\n",
      "\u001b[1m47/47\u001b[0m \u001b[32m━━━━━━━━━━━━━━━━━━━━\u001b[0m\u001b[37m\u001b[0m \u001b[1m0s\u001b[0m 4ms/step - accuracy: 0.7412 - auc: 0.7202 - loss: 0.5291 - precision: 0.7599 - recall: 0.9401 - val_accuracy: 0.7495 - val_auc: 0.7441 - val_loss: 0.5112 - val_precision: 0.7908 - val_recall: 0.8953\n",
      "Epoch 13/200\n",
      "\u001b[1m47/47\u001b[0m \u001b[32m━━━━━━━━━━━━━━━━━━━━\u001b[0m\u001b[37m\u001b[0m \u001b[1m0s\u001b[0m 4ms/step - accuracy: 0.7368 - auc: 0.7214 - loss: 0.5392 - precision: 0.7575 - recall: 0.9304 - val_accuracy: 0.7482 - val_auc: 0.7446 - val_loss: 0.5107 - val_precision: 0.7805 - val_recall: 0.9135\n",
      "Epoch 14/200\n",
      "\u001b[1m47/47\u001b[0m \u001b[32m━━━━━━━━━━━━━━━━━━━━\u001b[0m\u001b[37m\u001b[0m \u001b[1m0s\u001b[0m 4ms/step - accuracy: 0.7412 - auc: 0.7258 - loss: 0.5339 - precision: 0.7543 - recall: 0.9460 - val_accuracy: 0.7482 - val_auc: 0.7455 - val_loss: 0.5116 - val_precision: 0.7854 - val_recall: 0.9035\n",
      "Epoch 15/200\n",
      "\u001b[1m47/47\u001b[0m \u001b[32m━━━━━━━━━━━━━━━━━━━━\u001b[0m\u001b[37m\u001b[0m \u001b[1m0s\u001b[0m 3ms/step - accuracy: 0.7441 - auc: 0.7253 - loss: 0.5307 - precision: 0.7608 - recall: 0.9392 - val_accuracy: 0.7468 - val_auc: 0.7467 - val_loss: 0.5142 - val_precision: 0.7842 - val_recall: 0.9035\n",
      "Epoch 16/200\n",
      "\u001b[1m47/47\u001b[0m \u001b[32m━━━━━━━━━━━━━━━━━━━━\u001b[0m\u001b[37m\u001b[0m \u001b[1m0s\u001b[0m 3ms/step - accuracy: 0.7357 - auc: 0.7367 - loss: 0.5291 - precision: 0.7527 - recall: 0.9376 - val_accuracy: 0.7508 - val_auc: 0.7468 - val_loss: 0.5121 - val_precision: 0.7870 - val_recall: 0.9053\n",
      "Epoch 17/200\n",
      "\u001b[1m47/47\u001b[0m \u001b[32m━━━━━━━━━━━━━━━━━━━━\u001b[0m\u001b[37m\u001b[0m \u001b[1m0s\u001b[0m 4ms/step - accuracy: 0.7428 - auc: 0.7234 - loss: 0.5310 - precision: 0.7616 - recall: 0.9353 - val_accuracy: 0.7528 - val_auc: 0.7472 - val_loss: 0.5081 - val_precision: 0.7893 - val_recall: 0.9044\n",
      "Epoch 18/200\n",
      "\u001b[1m47/47\u001b[0m \u001b[32m━━━━━━━━━━━━━━━━━━━━\u001b[0m\u001b[37m\u001b[0m \u001b[1m0s\u001b[0m 4ms/step - accuracy: 0.7418 - auc: 0.7388 - loss: 0.5264 - precision: 0.7622 - recall: 0.9279 - val_accuracy: 0.7555 - val_auc: 0.7459 - val_loss: 0.5058 - val_precision: 0.7855 - val_recall: 0.9171\n",
      "Epoch 19/200\n",
      "\u001b[1m47/47\u001b[0m \u001b[32m━━━━━━━━━━━━━━━━━━━━\u001b[0m\u001b[37m\u001b[0m \u001b[1m0s\u001b[0m 3ms/step - accuracy: 0.7426 - auc: 0.7271 - loss: 0.5323 - precision: 0.7604 - recall: 0.9338 - val_accuracy: 0.7502 - val_auc: 0.7452 - val_loss: 0.5073 - val_precision: 0.7887 - val_recall: 0.9007\n",
      "Epoch 20/200\n",
      "\u001b[1m47/47\u001b[0m \u001b[32m━━━━━━━━━━━━━━━━━━━━\u001b[0m\u001b[37m\u001b[0m \u001b[1m0s\u001b[0m 4ms/step - accuracy: 0.7433 - auc: 0.7410 - loss: 0.5224 - precision: 0.7660 - recall: 0.9243 - val_accuracy: 0.7535 - val_auc: 0.7462 - val_loss: 0.5092 - val_precision: 0.7937 - val_recall: 0.8971\n",
      "Epoch 21/200\n",
      "\u001b[1m47/47\u001b[0m \u001b[32m━━━━━━━━━━━━━━━━━━━━\u001b[0m\u001b[37m\u001b[0m \u001b[1m0s\u001b[0m 4ms/step - accuracy: 0.7436 - auc: 0.7329 - loss: 0.5270 - precision: 0.7634 - recall: 0.9314 - val_accuracy: 0.7555 - val_auc: 0.7465 - val_loss: 0.5116 - val_precision: 0.7966 - val_recall: 0.8953\n",
      "Epoch 22/200\n",
      "\u001b[1m47/47\u001b[0m \u001b[32m━━━━━━━━━━━━━━━━━━━━\u001b[0m\u001b[37m\u001b[0m \u001b[1m0s\u001b[0m 4ms/step - accuracy: 0.7480 - auc: 0.7450 - loss: 0.5186 - precision: 0.7677 - recall: 0.9316 - val_accuracy: 0.7555 - val_auc: 0.7482 - val_loss: 0.5089 - val_precision: 0.7952 - val_recall: 0.8980\n",
      "Epoch 23/200\n",
      "\u001b[1m47/47\u001b[0m \u001b[32m━━━━━━━━━━━━━━━━━━━━\u001b[0m\u001b[37m\u001b[0m \u001b[1m0s\u001b[0m 4ms/step - accuracy: 0.7504 - auc: 0.7423 - loss: 0.5195 - precision: 0.7691 - recall: 0.9320 - val_accuracy: 0.7575 - val_auc: 0.7466 - val_loss: 0.5103 - val_precision: 0.7947 - val_recall: 0.9026\n"
     ]
    }
   ],
   "source": [
    "# Define early stopping callback\n",
    "early_stopping = EarlyStopping(monitor='val_loss', patience=5, restore_best_weights=True)\n",
    "\n",
    "# Train the model with early stopping\n",
    "history = model.fit(train_ds, epochs=200, validation_data=val_ds, callbacks=[early_stopping])"
   ]
  },
  {
   "cell_type": "markdown",
   "id": "bea557e0-eace-4b2b-b6fd-331000749115",
   "metadata": {},
   "source": [
    "## Evaluation"
   ]
  },
  {
   "cell_type": "markdown",
   "id": "526b0ea8-edb7-4213-a503-63991e1d18fd",
   "metadata": {},
   "source": [
    "### Training evaluation"
   ]
  },
  {
   "cell_type": "code",
   "execution_count": 57,
   "id": "ca211b16-0935-47fc-8224-8897570cebcb",
   "metadata": {},
   "outputs": [
    {
     "data": {
      "image/png": "[encoded data removed]",
      "text/plain": [
       "<Figure size 640x480 with 1 Axes>"
      ]
     },
     "metadata": {},
     "output_type": "display_data"
    }
   ],
   "source": [
    "# Plot training history\n",
    "plt.plot(history.history['accuracy'], label='accuracy')\n",
    "plt.plot(history.history['val_accuracy'], label='val_accuracy')\n",
    "plt.xlabel('Epoch')\n",
    "plt.ylabel('Accuracy')\n",
    "plt.legend()\n",
    "plt.show()"
   ]
  },
  {
   "cell_type": "markdown",
   "id": "8165a2f9-d239-4568-afb1-f223d77d5604",
   "metadata": {},
   "source": [
    "### Model evaluation"
   ]
  },
  {
   "cell_type": "code",
   "execution_count": 58,
   "id": "ddf0c900-3bd9-452c-bc87-13390fc34268",
   "metadata": {},
   "outputs": [
    {
     "name": "stdout",
     "output_type": "stream",
     "text": [
      "\u001b[1m6/6\u001b[0m \u001b[32m━━━━━━━━━━━━━━━━━━━━\u001b[0m\u001b[37m\u001b[0m \u001b[1m0s\u001b[0m 4ms/step - accuracy: 0.7490 - auc: 0.7169 - loss: 0.5249 - precision: 0.7747 - recall: 0.9240 \n",
      "Test Loss: 0.5182\n",
      "Test Accuracy: 0.7510\n",
      "Test Precision: 0.7838\n",
      "Test Recall: 0.9127\n",
      "Test AUC: 0.7195\n"
     ]
    }
   ],
   "source": [
    "# Evaluate the model on the test set\n",
    "test_loss, test_accuracy, test_precision, test_recall, test_auc = model.evaluate(test_ds)\n",
    "\n",
    "# Print evaluation metrics\n",
    "print(f\"Test Loss: {test_loss:.4f}\")\n",
    "print(f\"Test Accuracy: {test_accuracy:.4f}\")\n",
    "print(f\"Test Precision: {test_precision:.4f}\")\n",
    "print(f\"Test Recall: {test_recall:.4f}\")\n",
    "print(f\"Test AUC: {test_auc:.4f}\")"
   ]
  },
  {
   "cell_type": "markdown",
   "id": "77f2262b-3e09-49b0-9a2d-780b8b0b0e30",
   "metadata": {},
   "source": [
    "### Analysis:\n",
    "\n",
    "1. **Accuracy**: \n",
    "   - This indicates that the model correctly predicts the outcome about approximately 75% of the time. This is a solid performance, demonstrating a good level of accuracy.\n",
    "\n",
    "2. **Loss**: \n",
    "   - Lower loss indicates better model performance in terms of prediction accuracy. The loss value being stable shows that the model's error rate remains consistent.\n",
    "\n",
    "3. **Precision**: \n",
    "   - Precision measures the accuracy of positive predictions, indicating that about 78% of the positive predictions are correct. This is a good indication that the model makes reliable positive predictions.\n",
    "\n",
    "4. **Recall**: \n",
    "   - Recall measures the model's ability to identify all relevant instances in the dataset. A recall of approximately 92% means the model captures a high percentage of the actual positive cases, which is excellent for scenarios where it is crucial to identify positive cases correctly.\n",
    "\n",
    "5. **AUC**: \n",
    "   - AUC (Area Under the ROC Curve) measures the model's ability to distinguish between positive and negative classes. An AUC of approximately 0.72 indicates a good level of separability, meaning the model performs well in distinguishing between the two classes.\n",
    "\n",
    "### Conclusion:\n",
    "\n",
    "**Improved Performance**:\n",
    "- **Balanced Metrics**: The updated model shows balanced performance across accuracy, precision, recall, and AUC.\n",
    "- **No Signs of Overfitting**: The close match between the validation and test metrics suggests that the model generalizes well to unseen data.\n",
    "- **High Recall and Precision**: The high recall and precision are particularly good indicators of the model’s reliability in predicting positive cases accurately and capturing the majority of actual positives.\n",
    "\n",
    "### Recommendations:\n",
    "\n",
    "1. **Hyperparameter Tuning**: Continue to fine-tune hyperparameters like learning rate, batch size, and number of epochs to further optimize performance.\n",
    "2. **Feature Engineering**: Explore additional feature engineering techniques to potentially boost model performance. Consider creating new features or removing less significant ones.\n",
    "3. **Regularization**: Maintain regularization techniques like dropout and potentially add others (e.g., L2 regularization) to keep overfitting in check.\n",
    "4. **Cross-Validation**: Use cross-validation to ensure that the model’s performance is consistent across different subsets of the data.\n",
    "\n",
    "### Summary:\n",
    "\n",
    "The updated model shows good performance with balanced precision and recall, and it generalizes well to unseen data, indicating a positive improvement. The stability across validation and test metrics suggests a robust model, and further fine-tuning could potentially yield even better results. "
   ]
  },
  {
   "cell_type": "markdown",
   "id": "beb732e9-7cde-4525-a335-343713e680c0",
   "metadata": {},
   "source": [
    "# Peform Inference"
   ]
  },
  {
   "cell_type": "markdown",
   "id": "97afdc02-109a-443e-a185-72fa65f2e864",
   "metadata": {},
   "source": [
    "## Save model"
   ]
  },
  {
   "cell_type": "code",
   "execution_count": 59,
   "id": "eb7e8868-8515-46b3-bc3d-34ffdeb4d4a2",
   "metadata": {},
   "outputs": [],
   "source": [
    "model.save('my_pet_classifier.keras')\n",
    "reloaded_model = tf.keras.models.load_model('my_pet_classifier.keras')"
   ]
  },
  {
   "cell_type": "code",
   "execution_count": 68,
   "id": "6463079a-0230-403c-9c2c-5e5a67aa38f6",
   "metadata": {},
   "outputs": [],
   "source": [
    "# Function to process user input\n",
    "def process_user_input(user_input):\n",
    "    input_key_to_lower_case = {key.lower(): value for key, value in user_input.items()}\n",
    "    # Create a copy of the input data\n",
    "    data = pd.DataFrame([input_key_to_lower_case])  # Create DataFrame from single dict\n",
    "    \n",
    "    # Apply binning functions\n",
    "    binAge(data)\n",
    "    binPhotoAmt(data)\n",
    "    binQuantity(data)\n",
    "    binBreed(data)\n",
    "    binState(data)\n",
    "    \n",
    "    # Select and format processed features\n",
    "    processed_input = {\n",
    "        'agebins': data['agebins'].values[0],  \n",
    "        'sterilized': data['sterilized'].values[0],  \n",
    "        'photoamtbins': data['photoamtbins'].values[0],  \n",
    "        'breedbins': data['breedbins'].values[0],  \n",
    "        'vaccinated': data['vaccinated'].values[0],  \n",
    "        'statebins': data['statebins'].values[0],  \n",
    "        'quantitybins': data['quantitybins'].values[0]  \n",
    "    }\n",
    "    \n",
    "    return processed_input"
   ]
  },
  {
   "cell_type": "code",
   "execution_count": 69,
   "id": "43fc1054-5aee-4d06-8db0-a9790d5dbca7",
   "metadata": {},
   "outputs": [
    {
     "name": "stdout",
     "output_type": "stream",
     "text": [
      "\u001b[1m1/1\u001b[0m \u001b[32m━━━━━━━━━━━━━━━━━━━━\u001b[0m\u001b[37m\u001b[0m \u001b[1m0s\u001b[0m 147ms/step\n",
      "This particular pet had a 65.9 percent probability of getting adopted.\n"
     ]
    }
   ],
   "source": [
    "user_input = {\n",
    "    'type': 'Cat',\n",
    "    'name': 'tim',\n",
    "    'age': 2,\n",
    "    'breed1': 'Mixed Breed',\n",
    "    'breed2': None,\n",
    "    'gender': 'Male',\n",
    "    'color1': 'Black',\n",
    "    'color2': None,\n",
    "    'color3': None,\n",
    "    'maturitysize': 'Large',\n",
    "    'furlength': 'Small',\n",
    "    'vaccinated': 'Yes',\n",
    "    'dewormed': 'Yes',\n",
    "    'sterilized': 'Yes',\n",
    "    'health': 'Healthy',\n",
    "    'quantity': 1,\n",
    "    'fee': 100,\n",
    "    'state': 'xxx',\n",
    "    'rescuerid': 'yyy',\n",
    "    'videoamt': 2,\n",
    "    'description': None,\n",
    "    'petid': 'saf012173821asd87a',\n",
    "    'photoamt': 3\n",
    "}\n",
    "\n",
    "\n",
    "processed_input = process_user_input(user_input)\n",
    "\n",
    "input_dict = {name: tf.convert_to_tensor([value]) for name, value in processed_input.items()}\n",
    "predictions = reloaded_model.predict(input_dict)\n",
    "prob = tf.nn.sigmoid(predictions[0])\n",
    "\n",
    "print(\n",
    "    \"This particular pet had a %.1f percent probability \"\n",
    "    \"of getting adopted.\" % (100 * prob)\n",
    ")"
   ]
  },
  {
   "cell_type": "code",
   "execution_count": null,
   "id": "40e304cf-d4fc-41f2-a5ff-94184059ed06",
   "metadata": {},
   "outputs": [],
   "source": []
  }
 ],
 "metadata": {
  "kernelspec": {
   "display_name": "Python 3 (ipykernel)",
   "language": "python",
   "name": "python3"
  },
  "language_info": {
   "codemirror_mode": {
    "name": "ipython",
    "version": 3
   },
   "file_extension": ".py",
   "mimetype": "text/x-python",
   "name": "python",
   "nbconvert_exporter": "python",
   "pygments_lexer": "ipython3",
   "version": "3.11.5"
  }
 },
 "nbformat": 4,
 "nbformat_minor": 5
}
